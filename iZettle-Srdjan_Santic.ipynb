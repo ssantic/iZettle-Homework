{
 "cells": [
  {
   "cell_type": "markdown",
   "metadata": {},
   "source": [
    "## iZettle Data Science Assignment - CPV ##"
   ]
  },
  {
   "cell_type": "markdown",
   "metadata": {},
   "source": [
    "Thanks for taking time to complete the iZettle data science assignment.\n",
    "<br>\n",
    "This is to give you an idea about the challenges that we may face at iZettle. Also, it will help us understand how you would tackle them.\n",
    "<br>\n",
    "Feel free to scope the assignment as appropriate. Make sure to motivate what you did and why."
   ]
  },
  {
   "cell_type": "markdown",
   "metadata": {},
   "source": [
    "The goal is to estimate the Card Payment Volume (CPV) of each organization\n",
    "during their first, second and third month after creation (i.e. the sum of the\n",
    "amount of every transaction in each month). The prediction should be based\n",
    "on the first 14 days of data after the organization was created."
   ]
  },
  {
   "cell_type": "markdown",
   "metadata": {},
   "source": [
    "You’ll find two CSV files attached with the following data:"
   ]
  },
  {
   "cell_type": "markdown",
   "metadata": {},
   "source": [
    "data/organization_ids.csv:\n",
    "- organization_id Unique identifier for each organization\n",
    "- organization_created Date on which organization was onboarded"
   ]
  },
  {
   "cell_type": "markdown",
   "metadata": {},
   "source": [
    "data/payment_ids.csv:\n",
    "- organization_id Unique identifier for each organization\n",
    "- card_payment_id Unique identifier for a payment that was completed\n",
    "- timestamp Time of event\n",
    "- currency_id Currency\n",
    "- amount Amount of the transaction\n",
    "- device_type The device connected to the card reader\n",
    "- card_payment_entry_mode Payment technology\n",
    "- payment_type Valid payment or invalid"
   ]
  },
  {
   "cell_type": "markdown",
   "metadata": {},
   "source": [
    "### Imports ###"
   ]
  },
  {
   "cell_type": "code",
   "execution_count": 56,
   "metadata": {},
   "outputs": [],
   "source": [
    "import pandas as pd\n",
    "import numpy as np\n",
    "import pickle\n",
    "from sklearn.ensemble import RandomForestRegressor\n",
    "from sklearn.metrics import mean_absolute_error, mean_squared_error"
   ]
  },
  {
   "cell_type": "markdown",
   "metadata": {},
   "source": [
    "### Data Loading and Preparation ###"
   ]
  },
  {
   "cell_type": "markdown",
   "metadata": {},
   "source": [
    "We'll load the 2 csv's, and merge them on the organization id."
   ]
  },
  {
   "cell_type": "code",
   "execution_count": 83,
   "metadata": {},
   "outputs": [],
   "source": [
    "payment_df = pd.read_csv('payment_ids.csv')"
   ]
  },
  {
   "cell_type": "code",
   "execution_count": 84,
   "metadata": {},
   "outputs": [],
   "source": [
    "organization_df = pd.read_csv('organization_ids.csv')"
   ]
  },
  {
   "cell_type": "code",
   "execution_count": 85,
   "metadata": {},
   "outputs": [],
   "source": [
    "master_df = pd.merge(payment_df, organization_df, on='organization_id')"
   ]
  },
  {
   "cell_type": "markdown",
   "metadata": {},
   "source": [
    "<br>\n",
    "<br>\n",
    "Let's take a quick look at the categorical columns, and see how they're distributed."
   ]
  },
  {
   "cell_type": "code",
   "execution_count": 5,
   "metadata": {},
   "outputs": [
    {
     "data": {
      "text/plain": [
       "Index(['organization_id', 'timestamp', 'amount', 'currency_id',\n",
       "       'card_payment_entry_mode', 'device_type', 'payment_type',\n",
       "       'organization_created'],\n",
       "      dtype='object')"
      ]
     },
     "execution_count": 5,
     "metadata": {},
     "output_type": "execute_result"
    }
   ],
   "source": [
    "master_df.columns"
   ]
  },
  {
   "cell_type": "code",
   "execution_count": 6,
   "metadata": {},
   "outputs": [
    {
     "data": {
      "text/plain": [
       "<matplotlib.axes._subplots.AxesSubplot at 0x20840e13ac8>"
      ]
     },
     "execution_count": 6,
     "metadata": {},
     "output_type": "execute_result"
    },
    {
     "data": {
      "image/png": "[encoded data removed]",
      "text/plain": [
       "<Figure size 432x288 with 1 Axes>"
      ]
     },
     "metadata": {
      "needs_background": "light"
     },
     "output_type": "display_data"
    }
   ],
   "source": [
    "master_df['device_type'].value_counts().plot(kind='barh')"
   ]
  },
  {
   "cell_type": "code",
   "execution_count": 7,
   "metadata": {},
   "outputs": [
    {
     "data": {
      "text/plain": [
       "<matplotlib.axes._subplots.AxesSubplot at 0x20843af6b08>"
      ]
     },
     "execution_count": 7,
     "metadata": {},
     "output_type": "execute_result"
    },
    {
     "data": {
      "image/png": "[encoded data removed]",
      "text/plain": [
       "<Figure size 432x288 with 1 Axes>"
      ]
     },
     "metadata": {
      "needs_background": "light"
     },
     "output_type": "display_data"
    }
   ],
   "source": [
    "master_df['payment_type'].value_counts().plot(kind='barh')"
   ]
  },
  {
   "cell_type": "code",
   "execution_count": 8,
   "metadata": {},
   "outputs": [
    {
     "data": {
      "text/plain": [
       "<matplotlib.axes._subplots.AxesSubplot at 0x20843b7d608>"
      ]
     },
     "execution_count": 8,
     "metadata": {},
     "output_type": "execute_result"
    },
    {
     "data": {
      "image/png": "[encoded data removed]",
      "text/plain": [
       "<Figure size 432x288 with 1 Axes>"
      ]
     },
     "metadata": {
      "needs_background": "light"
     },
     "output_type": "display_data"
    }
   ],
   "source": [
    "master_df['card_payment_entry_mode'].value_counts().plot(kind='barh')"
   ]
  },
  {
   "cell_type": "code",
   "execution_count": 9,
   "metadata": {},
   "outputs": [
    {
     "data": {
      "text/plain": [
       "<matplotlib.axes._subplots.AxesSubplot at 0x20843beddc8>"
      ]
     },
     "execution_count": 9,
     "metadata": {},
     "output_type": "execute_result"
    },
    {
     "data": {
      "image/png": "[encoded data removed]",
      "text/plain": [
       "<Figure size 432x288 with 1 Axes>"
      ]
     },
     "metadata": {
      "needs_background": "light"
     },
     "output_type": "display_data"
    }
   ],
   "source": [
    "master_df['currency_id'].value_counts().plot(kind='barh')"
   ]
  },
  {
   "cell_type": "markdown",
   "metadata": {},
   "source": [
    "<br>\n",
    "<br>\n",
    "Now we need to convert the time columns to timestamps, as they are originally loaded as strings."
   ]
  },
  {
   "cell_type": "code",
   "execution_count": 86,
   "metadata": {},
   "outputs": [],
   "source": [
    "master_df['timestamp'] = pd.to_datetime(master_df['timestamp'], infer_datetime_format=True, errors='coerce')\n",
    "master_df['organization_created'] = pd.to_datetime(master_df['organization_created'], infer_datetime_format=True, errors='coerce')"
   ]
  },
  {
   "cell_type": "markdown",
   "metadata": {},
   "source": [
    "## Feature Engineering ##"
   ]
  },
  {
   "cell_type": "markdown",
   "metadata": {},
   "source": [
    "We're going to need organizational age, so we calculate that in days."
   ]
  },
  {
   "cell_type": "code",
   "execution_count": 87,
   "metadata": {},
   "outputs": [],
   "source": [
    "master_df['organization_age'] = (master_df['timestamp'] - master_df['organization_created']).dt.days"
   ]
  },
  {
   "cell_type": "markdown",
   "metadata": {},
   "source": [
    "<br>\n",
    "<br>\n",
    "The column with the payment amount contains values in multiple currencies. In order to make meaningful predictions, we need to make the amounts uniform. We're going to convert all the amounts to Euros. First, we create variables for the different exchange rates. Then we create a list for EUR amounts which will be used for conversion. Then we convert the currencies, and add the column to the dataframe."
   ]
  },
  {
   "cell_type": "code",
   "execution_count": 88,
   "metadata": {},
   "outputs": [],
   "source": [
    "GBP = 1.14\n",
    "NOK = 0.1\n",
    "SEK = 0.1\n",
    "DKK = 0.13"
   ]
  },
  {
   "cell_type": "code",
   "execution_count": 89,
   "metadata": {},
   "outputs": [],
   "source": [
    "amount_eur = []"
   ]
  },
  {
   "cell_type": "code",
   "execution_count": 90,
   "metadata": {},
   "outputs": [],
   "source": [
    "for index, row in master_df.iterrows():\n",
    "    if master_df['currency_id'][index] == 'GBP':\n",
    "        amount_eur.append(master_df['amount'][index] * GBP)\n",
    "    elif master_df['currency_id'][index] == 'NOK':\n",
    "        amount_eur.append(master_df['amount'][index] * NOK)\n",
    "    elif master_df['currency_id'][index] == 'SEK':\n",
    "        amount_eur.append(master_df['amount'][index] * SEK)\n",
    "    elif master_df['currency_id'][index] == 'DKK':\n",
    "        amount_eur.append(master_df['amount'][index] * DKK)\n",
    "    else:\n",
    "        amount_eur.append(master_df['amount'][index])"
   ]
  },
  {
   "cell_type": "code",
   "execution_count": 91,
   "metadata": {},
   "outputs": [],
   "source": [
    "master_df['amount_eur'] = amount_eur"
   ]
  },
  {
   "cell_type": "markdown",
   "metadata": {},
   "source": [
    "<br>\n",
    "<br>\n",
    "As we're predicting sums, we'll create features based on these sums. We have to be careful here about potential data leakage here. We'll create a feature based on the sum in the first 14 days, a feature for the rest of the first month, a feature for the second month, and a feature for the third month."
   ]
  },
  {
   "cell_type": "code",
   "execution_count": 58,
   "metadata": {},
   "outputs": [],
   "source": [
    "master_df['month'] = master_df['organization_age'] // 30"
   ]
  },
  {
   "cell_type": "code",
   "execution_count": 75,
   "metadata": {},
   "outputs": [],
   "source": [
    "monthly_cpv_df = pd.DataFrame(master_df.groupby(['organization_id', 'month'])['amount_eur'].sum()).reset_index().pivot(index='organization_id', \n",
    "                                                                                                      columns='month', \n",
    "                                                                                                      values='amount_eur').fillna(0)"
   ]
  },
  {
   "cell_type": "code",
   "execution_count": 81,
   "metadata": {},
   "outputs": [],
   "source": [
    "monthly_cpv_df = monthly_cpv_df.iloc[:,0:3]"
   ]
  },
  {
   "cell_type": "code",
   "execution_count": 95,
   "metadata": {},
   "outputs": [],
   "source": [
    "fourteen_days_df = master_df[master_df['organization_age'] <= 14]"
   ]
  },
  {
   "cell_type": "code",
   "execution_count": 141,
   "metadata": {},
   "outputs": [],
   "source": [
    "currency_df = fourteen_days_df.pivot_table(index='organization_id', columns='currency_id', values='amount_eur', aggfunc=np.sum, fill_value=0)\n",
    "card_payment_df = fourteen_days_df.pivot_table(index='organization_id', columns='card_payment_entry_mode', values='amount_eur', aggfunc=np.sum, fill_value=0)\n",
    "device_df = fourteen_days_df.pivot_table(index='organization_id', columns='device_type', values='amount_eur', aggfunc=np.sum, fill_value=0)\n",
    "payment_df = fourteen_days_df.pivot_table(index='organization_id', columns='payment_type', values='amount_eur', aggfunc=np.sum, fill_value=0)"
   ]
  },
  {
   "cell_type": "code",
   "execution_count": 142,
   "metadata": {},
   "outputs": [],
   "source": [
    "counts_df = pd.concat([currency_df,\n",
    "                       card_payment_df,\n",
    "                       device_df,\n",
    "                       payment_df], axis=1)"
   ]
  },
  {
   "cell_type": "code",
   "execution_count": 143,
   "metadata": {},
   "outputs": [],
   "source": [
    "counts_df.columns = ['amt_eur_' + str(col) for col in counts_df.columns]"
   ]
  },
  {
   "cell_type": "code",
   "execution_count": 144,
   "metadata": {},
   "outputs": [
    {
     "data": {
      "text/html": [
       "<div>\n",
       "<style scoped>\n",
       "    .dataframe tbody tr th:only-of-type {\n",
       "        vertical-align: middle;\n",
       "    }\n",
       "\n",
       "    .dataframe tbody tr th {\n",
       "        vertical-align: top;\n",
       "    }\n",
       "\n",
       "    .dataframe thead th {\n",
       "        text-align: right;\n",
       "    }\n",
       "</style>\n",
       "<table border=\"1\" class=\"dataframe\">\n",
       "  <thead>\n",
       "    <tr style=\"text-align: right;\">\n",
       "      <th></th>\n",
       "      <th>amt_eur_DKK</th>\n",
       "      <th>amt_eur_EUR</th>\n",
       "      <th>amt_eur_GBP</th>\n",
       "      <th>amt_eur_NOK</th>\n",
       "      <th>amt_eur_SEK</th>\n",
       "      <th>amt_eur_CARD_HOLDER_ENTRY</th>\n",
       "      <th>amt_eur_CONTACTLESS_EMV</th>\n",
       "      <th>amt_eur_CONTACTLESS_MAGSTRIPE</th>\n",
       "      <th>amt_eur_EMV</th>\n",
       "      <th>amt_eur_MAGSTRIPE</th>\n",
       "      <th>amt_eur_MANUAL_ENTRY</th>\n",
       "      <th>amt_eur_ANDROID</th>\n",
       "      <th>amt_eur_IPAD</th>\n",
       "      <th>amt_eur_IPHONE</th>\n",
       "      <th>amt_eur_Invalid</th>\n",
       "      <th>amt_eur_Valid</th>\n",
       "    </tr>\n",
       "    <tr>\n",
       "      <th>organization_id</th>\n",
       "      <th></th>\n",
       "      <th></th>\n",
       "      <th></th>\n",
       "      <th></th>\n",
       "      <th></th>\n",
       "      <th></th>\n",
       "      <th></th>\n",
       "      <th></th>\n",
       "      <th></th>\n",
       "      <th></th>\n",
       "      <th></th>\n",
       "      <th></th>\n",
       "      <th></th>\n",
       "      <th></th>\n",
       "      <th></th>\n",
       "      <th></th>\n",
       "    </tr>\n",
       "  </thead>\n",
       "  <tbody>\n",
       "    <tr>\n",
       "      <th>000-4e6abe9c388d</th>\n",
       "      <td>0.0</td>\n",
       "      <td>10.0</td>\n",
       "      <td>0.000</td>\n",
       "      <td>0.0</td>\n",
       "      <td>0.0</td>\n",
       "      <td>0.00</td>\n",
       "      <td>0.0</td>\n",
       "      <td>0.0</td>\n",
       "      <td>10.000</td>\n",
       "      <td>0.0</td>\n",
       "      <td>0.0</td>\n",
       "      <td>10.000</td>\n",
       "      <td>0.0</td>\n",
       "      <td>0.00</td>\n",
       "      <td>0.00</td>\n",
       "      <td>10.000</td>\n",
       "    </tr>\n",
       "    <tr>\n",
       "      <th>001-3b5eba101430</th>\n",
       "      <td>0.0</td>\n",
       "      <td>0.0</td>\n",
       "      <td>60.648</td>\n",
       "      <td>0.0</td>\n",
       "      <td>0.0</td>\n",
       "      <td>0.00</td>\n",
       "      <td>0.0</td>\n",
       "      <td>0.0</td>\n",
       "      <td>60.648</td>\n",
       "      <td>0.0</td>\n",
       "      <td>0.0</td>\n",
       "      <td>60.648</td>\n",
       "      <td>0.0</td>\n",
       "      <td>0.00</td>\n",
       "      <td>0.00</td>\n",
       "      <td>60.648</td>\n",
       "    </tr>\n",
       "    <tr>\n",
       "      <th>001-3d39160884ba</th>\n",
       "      <td>0.0</td>\n",
       "      <td>0.0</td>\n",
       "      <td>2.280</td>\n",
       "      <td>0.0</td>\n",
       "      <td>0.0</td>\n",
       "      <td>1.14</td>\n",
       "      <td>0.0</td>\n",
       "      <td>0.0</td>\n",
       "      <td>1.140</td>\n",
       "      <td>0.0</td>\n",
       "      <td>0.0</td>\n",
       "      <td>0.000</td>\n",
       "      <td>0.0</td>\n",
       "      <td>2.28</td>\n",
       "      <td>0.00</td>\n",
       "      <td>2.280</td>\n",
       "    </tr>\n",
       "    <tr>\n",
       "      <th>001-3e822db41946</th>\n",
       "      <td>0.0</td>\n",
       "      <td>892.7</td>\n",
       "      <td>0.000</td>\n",
       "      <td>0.0</td>\n",
       "      <td>0.0</td>\n",
       "      <td>0.00</td>\n",
       "      <td>18.3</td>\n",
       "      <td>0.0</td>\n",
       "      <td>870.400</td>\n",
       "      <td>4.0</td>\n",
       "      <td>0.0</td>\n",
       "      <td>544.700</td>\n",
       "      <td>0.0</td>\n",
       "      <td>348.00</td>\n",
       "      <td>10.00</td>\n",
       "      <td>882.700</td>\n",
       "    </tr>\n",
       "    <tr>\n",
       "      <th>001-7162bc3e0996</th>\n",
       "      <td>0.0</td>\n",
       "      <td>0.0</td>\n",
       "      <td>0.000</td>\n",
       "      <td>744.0</td>\n",
       "      <td>0.0</td>\n",
       "      <td>0.00</td>\n",
       "      <td>0.0</td>\n",
       "      <td>0.0</td>\n",
       "      <td>744.000</td>\n",
       "      <td>0.0</td>\n",
       "      <td>0.0</td>\n",
       "      <td>744.000</td>\n",
       "      <td>0.0</td>\n",
       "      <td>0.00</td>\n",
       "      <td>0.00</td>\n",
       "      <td>744.000</td>\n",
       "    </tr>\n",
       "    <tr>\n",
       "      <th>...</th>\n",
       "      <td>...</td>\n",
       "      <td>...</td>\n",
       "      <td>...</td>\n",
       "      <td>...</td>\n",
       "      <td>...</td>\n",
       "      <td>...</td>\n",
       "      <td>...</td>\n",
       "      <td>...</td>\n",
       "      <td>...</td>\n",
       "      <td>...</td>\n",
       "      <td>...</td>\n",
       "      <td>...</td>\n",
       "      <td>...</td>\n",
       "      <td>...</td>\n",
       "      <td>...</td>\n",
       "      <td>...</td>\n",
       "    </tr>\n",
       "    <tr>\n",
       "      <th>ffb-5f5d36b98e83</th>\n",
       "      <td>0.0</td>\n",
       "      <td>0.0</td>\n",
       "      <td>76.380</td>\n",
       "      <td>0.0</td>\n",
       "      <td>0.0</td>\n",
       "      <td>0.00</td>\n",
       "      <td>0.0</td>\n",
       "      <td>0.0</td>\n",
       "      <td>76.380</td>\n",
       "      <td>0.0</td>\n",
       "      <td>0.0</td>\n",
       "      <td>76.380</td>\n",
       "      <td>0.0</td>\n",
       "      <td>0.00</td>\n",
       "      <td>50.16</td>\n",
       "      <td>26.220</td>\n",
       "    </tr>\n",
       "    <tr>\n",
       "      <th>ffc-0d4b0c9be14b</th>\n",
       "      <td>0.0</td>\n",
       "      <td>257.0</td>\n",
       "      <td>0.000</td>\n",
       "      <td>0.0</td>\n",
       "      <td>0.0</td>\n",
       "      <td>0.00</td>\n",
       "      <td>50.0</td>\n",
       "      <td>0.0</td>\n",
       "      <td>207.000</td>\n",
       "      <td>0.0</td>\n",
       "      <td>0.0</td>\n",
       "      <td>0.000</td>\n",
       "      <td>0.0</td>\n",
       "      <td>257.00</td>\n",
       "      <td>0.00</td>\n",
       "      <td>257.000</td>\n",
       "    </tr>\n",
       "    <tr>\n",
       "      <th>ffe-f72cc7a435de</th>\n",
       "      <td>0.0</td>\n",
       "      <td>0.0</td>\n",
       "      <td>0.000</td>\n",
       "      <td>300.0</td>\n",
       "      <td>0.0</td>\n",
       "      <td>0.00</td>\n",
       "      <td>0.0</td>\n",
       "      <td>0.0</td>\n",
       "      <td>300.000</td>\n",
       "      <td>0.0</td>\n",
       "      <td>0.0</td>\n",
       "      <td>300.000</td>\n",
       "      <td>0.0</td>\n",
       "      <td>0.00</td>\n",
       "      <td>0.00</td>\n",
       "      <td>300.000</td>\n",
       "    </tr>\n",
       "    <tr>\n",
       "      <th>fff-7d91a0b3022b</th>\n",
       "      <td>0.0</td>\n",
       "      <td>1.0</td>\n",
       "      <td>0.000</td>\n",
       "      <td>0.0</td>\n",
       "      <td>0.0</td>\n",
       "      <td>0.00</td>\n",
       "      <td>0.0</td>\n",
       "      <td>0.0</td>\n",
       "      <td>1.000</td>\n",
       "      <td>0.0</td>\n",
       "      <td>0.0</td>\n",
       "      <td>0.000</td>\n",
       "      <td>0.0</td>\n",
       "      <td>1.00</td>\n",
       "      <td>0.00</td>\n",
       "      <td>1.000</td>\n",
       "    </tr>\n",
       "    <tr>\n",
       "      <th>fff-8616fb7b5967</th>\n",
       "      <td>0.0</td>\n",
       "      <td>0.0</td>\n",
       "      <td>0.000</td>\n",
       "      <td>0.0</td>\n",
       "      <td>3943.1</td>\n",
       "      <td>0.00</td>\n",
       "      <td>0.0</td>\n",
       "      <td>0.0</td>\n",
       "      <td>3943.100</td>\n",
       "      <td>0.0</td>\n",
       "      <td>0.0</td>\n",
       "      <td>3943.100</td>\n",
       "      <td>0.0</td>\n",
       "      <td>0.00</td>\n",
       "      <td>214.70</td>\n",
       "      <td>3728.400</td>\n",
       "    </tr>\n",
       "  </tbody>\n",
       "</table>\n",
       "<p>4918 rows × 16 columns</p>\n",
       "</div>"
      ],
      "text/plain": [
       "                  amt_eur_DKK  amt_eur_EUR  amt_eur_GBP  amt_eur_NOK  \\\n",
       "organization_id                                                        \n",
       "000-4e6abe9c388d          0.0         10.0        0.000          0.0   \n",
       "001-3b5eba101430          0.0          0.0       60.648          0.0   \n",
       "001-3d39160884ba          0.0          0.0        2.280          0.0   \n",
       "001-3e822db41946          0.0        892.7        0.000          0.0   \n",
       "001-7162bc3e0996          0.0          0.0        0.000        744.0   \n",
       "...                       ...          ...          ...          ...   \n",
       "ffb-5f5d36b98e83          0.0          0.0       76.380          0.0   \n",
       "ffc-0d4b0c9be14b          0.0        257.0        0.000          0.0   \n",
       "ffe-f72cc7a435de          0.0          0.0        0.000        300.0   \n",
       "fff-7d91a0b3022b          0.0          1.0        0.000          0.0   \n",
       "fff-8616fb7b5967          0.0          0.0        0.000          0.0   \n",
       "\n",
       "                  amt_eur_SEK  amt_eur_CARD_HOLDER_ENTRY  \\\n",
       "organization_id                                            \n",
       "000-4e6abe9c388d          0.0                       0.00   \n",
       "001-3b5eba101430          0.0                       0.00   \n",
       "001-3d39160884ba          0.0                       1.14   \n",
       "001-3e822db41946          0.0                       0.00   \n",
       "001-7162bc3e0996          0.0                       0.00   \n",
       "...                       ...                        ...   \n",
       "ffb-5f5d36b98e83          0.0                       0.00   \n",
       "ffc-0d4b0c9be14b          0.0                       0.00   \n",
       "ffe-f72cc7a435de          0.0                       0.00   \n",
       "fff-7d91a0b3022b          0.0                       0.00   \n",
       "fff-8616fb7b5967       3943.1                       0.00   \n",
       "\n",
       "                  amt_eur_CONTACTLESS_EMV  amt_eur_CONTACTLESS_MAGSTRIPE  \\\n",
       "organization_id                                                            \n",
       "000-4e6abe9c388d                      0.0                            0.0   \n",
       "001-3b5eba101430                      0.0                            0.0   \n",
       "001-3d39160884ba                      0.0                            0.0   \n",
       "001-3e822db41946                     18.3                            0.0   \n",
       "001-7162bc3e0996                      0.0                            0.0   \n",
       "...                                   ...                            ...   \n",
       "ffb-5f5d36b98e83                      0.0                            0.0   \n",
       "ffc-0d4b0c9be14b                     50.0                            0.0   \n",
       "ffe-f72cc7a435de                      0.0                            0.0   \n",
       "fff-7d91a0b3022b                      0.0                            0.0   \n",
       "fff-8616fb7b5967                      0.0                            0.0   \n",
       "\n",
       "                  amt_eur_EMV  amt_eur_MAGSTRIPE  amt_eur_MANUAL_ENTRY  \\\n",
       "organization_id                                                          \n",
       "000-4e6abe9c388d       10.000                0.0                   0.0   \n",
       "001-3b5eba101430       60.648                0.0                   0.0   \n",
       "001-3d39160884ba        1.140                0.0                   0.0   \n",
       "001-3e822db41946      870.400                4.0                   0.0   \n",
       "001-7162bc3e0996      744.000                0.0                   0.0   \n",
       "...                       ...                ...                   ...   \n",
       "ffb-5f5d36b98e83       76.380                0.0                   0.0   \n",
       "ffc-0d4b0c9be14b      207.000                0.0                   0.0   \n",
       "ffe-f72cc7a435de      300.000                0.0                   0.0   \n",
       "fff-7d91a0b3022b        1.000                0.0                   0.0   \n",
       "fff-8616fb7b5967     3943.100                0.0                   0.0   \n",
       "\n",
       "                  amt_eur_ANDROID  amt_eur_IPAD  amt_eur_IPHONE  \\\n",
       "organization_id                                                   \n",
       "000-4e6abe9c388d           10.000           0.0            0.00   \n",
       "001-3b5eba101430           60.648           0.0            0.00   \n",
       "001-3d39160884ba            0.000           0.0            2.28   \n",
       "001-3e822db41946          544.700           0.0          348.00   \n",
       "001-7162bc3e0996          744.000           0.0            0.00   \n",
       "...                           ...           ...             ...   \n",
       "ffb-5f5d36b98e83           76.380           0.0            0.00   \n",
       "ffc-0d4b0c9be14b            0.000           0.0          257.00   \n",
       "ffe-f72cc7a435de          300.000           0.0            0.00   \n",
       "fff-7d91a0b3022b            0.000           0.0            1.00   \n",
       "fff-8616fb7b5967         3943.100           0.0            0.00   \n",
       "\n",
       "                  amt_eur_Invalid  amt_eur_Valid  \n",
       "organization_id                                   \n",
       "000-4e6abe9c388d             0.00         10.000  \n",
       "001-3b5eba101430             0.00         60.648  \n",
       "001-3d39160884ba             0.00          2.280  \n",
       "001-3e822db41946            10.00        882.700  \n",
       "001-7162bc3e0996             0.00        744.000  \n",
       "...                           ...            ...  \n",
       "ffb-5f5d36b98e83            50.16         26.220  \n",
       "ffc-0d4b0c9be14b             0.00        257.000  \n",
       "ffe-f72cc7a435de             0.00        300.000  \n",
       "fff-7d91a0b3022b             0.00          1.000  \n",
       "fff-8616fb7b5967           214.70       3728.400  \n",
       "\n",
       "[4918 rows x 16 columns]"
      ]
     },
     "execution_count": 144,
     "metadata": {},
     "output_type": "execute_result"
    }
   ],
   "source": [
    "features_df"
   ]
  },
  {
   "cell_type": "code",
   "execution_count": 148,
   "metadata": {},
   "outputs": [],
   "source": [
    "modeling_df = pd.merge(left=features_df, right=monthly_cpv_df, on='organization_id')"
   ]
  },
  {
   "cell_type": "code",
   "execution_count": null,
   "metadata": {},
   "outputs": [],
   "source": []
  },
  {
   "cell_type": "markdown",
   "metadata": {},
   "source": [
    "<br>\n",
    "<br>\n",
    "There are a number of categorical features in the dataset, which can be one-hot encoded. Let's do this now:"
   ]
  },
  {
   "cell_type": "code",
   "execution_count": 34,
   "metadata": {},
   "outputs": [
    {
     "data": {
      "text/plain": [
       "Index(['organization_id', 'timestamp', 'amount', 'currency_id',\n",
       "       'card_payment_entry_mode', 'device_type', 'payment_type',\n",
       "       'organization_created', 'organization_age', 'amount_eur',\n",
       "       'amt_to_14_days_sum', 'amt_15_to_30_days_sum', 'amt_61_to_90_days_sum',\n",
       "       'amt_31_to_60_days_sum'],\n",
       "      dtype='object')"
      ]
     },
     "execution_count": 34,
     "metadata": {},
     "output_type": "execute_result"
    }
   ],
   "source": [
    "master_df.columns"
   ]
  },
  {
   "cell_type": "code",
   "execution_count": 35,
   "metadata": {},
   "outputs": [],
   "source": [
    "# Currency\n",
    "currency_dummies = pd.get_dummies(master_df['currency_id'], prefix='is_currency', prefix_sep='_', dummy_na=True, drop_first=False)\n",
    "\n",
    "# Card Payment Entry Mode\n",
    "card_payment_entry_mode_dummies = pd.get_dummies(master_df['card_payment_entry_mode'], prefix='is_card_payment_entry mode', prefix_sep='_', dummy_na=True, drop_first=False)\n",
    "\n",
    "# Device Type\n",
    "device_type_dummies = pd.get_dummies(master_df['device_type'], prefix='is_device_type', prefix_sep='_', dummy_na=True, drop_first=False)\n",
    "\n",
    "# Payment Type\n",
    "payment_type_dummies = pd.get_dummies(master_df['payment_type'], prefix='is_payment_type', prefix_sep='_', dummy_na=True, drop_first=False)"
   ]
  },
  {
   "cell_type": "markdown",
   "metadata": {},
   "source": [
    "<br>\n",
    "<br>\n",
    "Now we create a master dataframe for modeling:"
   ]
  },
  {
   "cell_type": "code",
   "execution_count": 38,
   "metadata": {},
   "outputs": [],
   "source": [
    "modeling_df = pd.concat([master_df[['organization_age',\n",
    "                                     'amount_eur']],\n",
    "                                      currency_dummies,\n",
    "                                      card_payment_entry_mode_dummies,\n",
    "                                      device_type_dummies,\n",
    "                                      payment_type_dummies],\n",
    "                                      axis=1\n",
    "                                     )"
   ]
  },
  {
   "cell_type": "markdown",
   "metadata": {},
   "source": [
    "<br>\n",
    "<br>"
   ]
  },
  {
   "cell_type": "markdown",
   "metadata": {},
   "source": [
    "## Modeling ##"
   ]
  },
  {
   "cell_type": "markdown",
   "metadata": {},
   "source": [
    "The first thing we need to do is split our dataset into training and testing. As we're instucted to use the first 14 days for training, we'll make the split as such:"
   ]
  },
  {
   "cell_type": "code",
   "execution_count": 43,
   "metadata": {},
   "outputs": [],
   "source": [
    "train_df = modeling_df[modeling_df['organization_age'] <= 14]\n",
    "test_df = modeling_df[modeling_df['organization_age'] > 14]"
   ]
  },
  {
   "cell_type": "markdown",
   "metadata": {},
   "source": [
    "<br>\n",
    "<br>\n",
    "Now we split these into features and responses:"
   ]
  },
  {
   "cell_type": "code",
   "execution_count": 45,
   "metadata": {},
   "outputs": [],
   "source": [
    "y_train = train_df['amount_eur']\n",
    "y_test = test_df['amount_eur']\n",
    "\n",
    "X_train = train_df.drop(['amount_eur', 'organization_age'], axis=1)\n",
    "X_test = test_df.drop(['amount_eur', 'organization_age'], axis=1)"
   ]
  },
  {
   "cell_type": "markdown",
   "metadata": {},
   "source": [
    "<br>\n",
    "<br>\n",
    "We're going to use the Random Forest algorithm, as it has excellent performance out-of-the-box, rarely overfits, and does automated feature selection. One thing we have to keep in mind is to set the seed for the random number generator, in order to increase reproducibility:"
   ]
  },
  {
   "cell_type": "code",
   "execution_count": 50,
   "metadata": {},
   "outputs": [],
   "source": [
    "rf_model = RandomForestRegressor(random_state=176).fit(X_train, y_train)\n",
    "rf_predictions = rf_model.predict(X_test)"
   ]
  },
  {
   "cell_type": "markdown",
   "metadata": {},
   "source": [
    "<br>\n",
    "<br>\n",
    "Let's calculate the basic regression accuracy metrics:"
   ]
  },
  {
   "cell_type": "code",
   "execution_count": 51,
   "metadata": {},
   "outputs": [
    {
     "data": {
      "text/plain": [
       "28.690864972009262"
      ]
     },
     "execution_count": 51,
     "metadata": {},
     "output_type": "execute_result"
    }
   ],
   "source": [
    "# Mean Absolute Deviation\n",
    "mean_absolute_error(y_test, rf_predictions)"
   ]
  },
  {
   "cell_type": "code",
   "execution_count": 52,
   "metadata": {},
   "outputs": [
    {
     "data": {
      "text/plain": [
       "108.1100461007641"
      ]
     },
     "execution_count": 52,
     "metadata": {},
     "output_type": "execute_result"
    }
   ],
   "source": [
    "# Root Mean Squared Error\n",
    "np.sqrt(mean_squared_error(y_test, rf_predictions))"
   ]
  },
  {
   "cell_type": "markdown",
   "metadata": {},
   "source": [
    "<br>\n",
    "<br>\n",
    "Let's take a look at the feature importances of our model:"
   ]
  },
  {
   "cell_type": "code",
   "execution_count": 55,
   "metadata": {},
   "outputs": [
    {
     "data": {
      "text/plain": [
       "<matplotlib.axes._subplots.AxesSubplot at 0x2080e257648>"
      ]
     },
     "execution_count": 55,
     "metadata": {},
     "output_type": "execute_result"
    },
    {
     "data": {
      "image/png": "[encoded data removed]",
      "text/plain": [
       "<Figure size 432x288 with 1 Axes>"
      ]
     },
     "metadata": {
      "needs_background": "light"
     },
     "output_type": "display_data"
    }
   ],
   "source": [
    "feat_importances = pd.Series(rf_model.feature_importances_, index=X_test.columns)\n",
    "feat_importances.plot(kind='barh')"
   ]
  },
  {
   "cell_type": "markdown",
   "metadata": {},
   "source": [
    "We can see that the GBP currency, orders made through iPhones, and Valid payments contribute the most to the accuracy."
   ]
  },
  {
   "cell_type": "markdown",
   "metadata": {},
   "source": [
    "<br>\n",
    "<br>"
   ]
  },
  {
   "cell_type": "markdown",
   "metadata": {},
   "source": [
    "## Saving the Model ##"
   ]
  },
  {
   "cell_type": "markdown",
   "metadata": {},
   "source": [
    "In order to re-use our model in a RESTful API service, we need to save it to disk. We could use either joblib or pickle. Here we go with pickle."
   ]
  },
  {
   "cell_type": "code",
   "execution_count": null,
   "metadata": {},
   "outputs": [],
   "source": [
    "pickle.dump(smote_rf, open('rf_model.pickle', 'wb'))"
   ]
  }
 ],
 "metadata": {
  "kernelspec": {
   "display_name": "Python 3",
   "language": "python",
   "name": "python3"
  },
  "language_info": {
   "codemirror_mode": {
    "name": "ipython",
    "version": 3
   },
   "file_extension": ".py",
   "mimetype": "text/x-python",
   "name": "python",
   "nbconvert_exporter": "python",
   "pygments_lexer": "ipython3",
   "version": "3.7.7"
  }
 },
 "nbformat": 4,
 "nbformat_minor": 4
}
