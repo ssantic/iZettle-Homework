{
 "cells": [
  {
   "cell_type": "markdown",
   "metadata": {},
   "source": [
    "## iZettle Data Science Assignment - CPV ##"
   ]
  },
  {
   "cell_type": "markdown",
   "metadata": {},
   "source": [
    "Thanks for taking time to complete the iZettle data science assignment.\n",
    "<br>\n",
    "This is to give you an idea about the challenges that we may face at iZettle. Also, it will help us understand how you would tackle them.\n",
    "<br>\n",
    "Feel free to scope the assignment as appropriate. Make sure to motivate what you did and why."
   ]
  },
  {
   "cell_type": "markdown",
   "metadata": {},
   "source": [
    "The goal is to estimate the Card Payment Volume (CPV) of each organization\n",
    "during their first, second and third month after creation (i.e. the sum of the\n",
    "amount of every transaction in each month). The prediction should be based\n",
    "on the first 14 days of data after the organization was created."
   ]
  },
  {
   "cell_type": "markdown",
   "metadata": {},
   "source": [
    "You’ll find two CSV files attached with the following data:"
   ]
  },
  {
   "cell_type": "markdown",
   "metadata": {},
   "source": [
    "data/organization_ids.csv:\n",
    "- organization_id Unique identifier for each organization\n",
    "- organization_created Date on which organization was onboarded"
   ]
  },
  {
   "cell_type": "markdown",
   "metadata": {},
   "source": [
    "data/payment_ids.csv:\n",
    "- organization_id Unique identifier for each organization\n",
    "- card_payment_id Unique identifier for a payment that was completed\n",
    "- timestamp Time of event\n",
    "- currency_id Currency\n",
    "- amount Amount of the transaction\n",
    "- device_type The device connected to the card reader\n",
    "- card_payment_entry_mode Payment technology\n",
    "- payment_type Valid payment or invalid"
   ]
  },
  {
   "cell_type": "markdown",
   "metadata": {},
   "source": [
    "### Imports ###"
   ]
  },
  {
   "cell_type": "code",
   "execution_count": 1,
   "metadata": {},
   "outputs": [],
   "source": [
    "import pickle\n",
    "import pandas as pd\n",
    "import numpy as np\n",
    "from sklearn.model_selection import train_test_split\n",
    "from sklearn.ensemble import RandomForestRegressor\n",
    "from sklearn.metrics import mean_absolute_error, mean_squared_error"
   ]
  },
  {
   "cell_type": "markdown",
   "metadata": {},
   "source": [
    "### Data Loading and Preparation ###"
   ]
  },
  {
   "cell_type": "markdown",
   "metadata": {},
   "source": [
    "We'll load the 2 csv's, and merge them on the organization id."
   ]
  },
  {
   "cell_type": "code",
   "execution_count": 2,
   "metadata": {},
   "outputs": [],
   "source": [
    "payment_df = pd.read_csv('payment_ids.csv')"
   ]
  },
  {
   "cell_type": "code",
   "execution_count": 3,
   "metadata": {},
   "outputs": [],
   "source": [
    "organization_df = pd.read_csv('organization_ids.csv')"
   ]
  },
  {
   "cell_type": "code",
   "execution_count": 4,
   "metadata": {},
   "outputs": [],
   "source": [
    "master_df = pd.merge(payment_df, organization_df, on='organization_id')"
   ]
  },
  {
   "cell_type": "markdown",
   "metadata": {},
   "source": [
    "<br>\n",
    "<br>\n",
    "Let's take a quick look at the categorical columns, and see how they're distributed."
   ]
  },
  {
   "cell_type": "code",
   "execution_count": 5,
   "metadata": {},
   "outputs": [
    {
     "data": {
      "text/plain": [
       "<matplotlib.axes._subplots.AxesSubplot at 0x1abe836b548>"
      ]
     },
     "execution_count": 5,
     "metadata": {},
     "output_type": "execute_result"
    },
    {
     "data": {
      "image/png": "[encoded data removed]",
      "text/plain": [
       "<Figure size 432x288 with 1 Axes>"
      ]
     },
     "metadata": {
      "needs_background": "light"
     },
     "output_type": "display_data"
    }
   ],
   "source": [
    "master_df['device_type'].value_counts().plot(kind='barh')"
   ]
  },
  {
   "cell_type": "code",
   "execution_count": 6,
   "metadata": {},
   "outputs": [
    {
     "data": {
      "text/plain": [
       "<matplotlib.axes._subplots.AxesSubplot at 0x1abe8b6c2c8>"
      ]
     },
     "execution_count": 6,
     "metadata": {},
     "output_type": "execute_result"
    },
    {
     "data": {
      "image/png": "[encoded data removed]",
      "text/plain": [
       "<Figure size 432x288 with 1 Axes>"
      ]
     },
     "metadata": {
      "needs_background": "light"
     },
     "output_type": "display_data"
    }
   ],
   "source": [
    "master_df['payment_type'].value_counts().plot(kind='barh')"
   ]
  },
  {
   "cell_type": "code",
   "execution_count": 7,
   "metadata": {},
   "outputs": [
    {
     "data": {
      "text/plain": [
       "<matplotlib.axes._subplots.AxesSubplot at 0x1abebe1d4c8>"
      ]
     },
     "execution_count": 7,
     "metadata": {},
     "output_type": "execute_result"
    },
    {
     "data": {
      "image/png": "[encoded data removed]",
      "text/plain": [
       "<Figure size 432x288 with 1 Axes>"
      ]
     },
     "metadata": {
      "needs_background": "light"
     },
     "output_type": "display_data"
    }
   ],
   "source": [
    "master_df['card_payment_entry_mode'].value_counts().plot(kind='barh')"
   ]
  },
  {
   "cell_type": "code",
   "execution_count": 8,
   "metadata": {},
   "outputs": [
    {
     "data": {
      "text/plain": [
       "<matplotlib.axes._subplots.AxesSubplot at 0x1abebe8d3c8>"
      ]
     },
     "execution_count": 8,
     "metadata": {},
     "output_type": "execute_result"
    },
    {
     "data": {
      "image/png": "[encoded data removed]",
      "text/plain": [
       "<Figure size 432x288 with 1 Axes>"
      ]
     },
     "metadata": {
      "needs_background": "light"
     },
     "output_type": "display_data"
    }
   ],
   "source": [
    "master_df['currency_id'].value_counts().plot(kind='barh')"
   ]
  },
  {
   "cell_type": "markdown",
   "metadata": {},
   "source": [
    "<br>\n",
    "<br>\n",
    "Now we need to convert the time columns to timestamps, as they are originally loaded as strings."
   ]
  },
  {
   "cell_type": "code",
   "execution_count": 9,
   "metadata": {},
   "outputs": [],
   "source": [
    "master_df['timestamp'] = pd.to_datetime(master_df['timestamp'], infer_datetime_format=True, errors='coerce')\n",
    "master_df['organization_created'] = pd.to_datetime(master_df['organization_created'], infer_datetime_format=True, errors='coerce')"
   ]
  },
  {
   "cell_type": "markdown",
   "metadata": {},
   "source": [
    "## Feature Engineering ##"
   ]
  },
  {
   "cell_type": "markdown",
   "metadata": {},
   "source": [
    "We're going to need organizational age, so we calculate that in days."
   ]
  },
  {
   "cell_type": "code",
   "execution_count": 10,
   "metadata": {},
   "outputs": [],
   "source": [
    "master_df['organization_age'] = (master_df['timestamp'] - master_df['organization_created']).dt.days"
   ]
  },
  {
   "cell_type": "markdown",
   "metadata": {},
   "source": [
    "<br>\n",
    "<br>\n",
    "The column with the payment amount contains values in multiple currencies. In order to make meaningful predictions, we need to make the amounts uniform. We're going to convert all the amounts to Euros. First, we create variables for the different exchange rates. Then we create a list for EUR amounts which will be used for conversion. Then we convert the currencies, and add the column to the dataframe."
   ]
  },
  {
   "cell_type": "code",
   "execution_count": 11,
   "metadata": {},
   "outputs": [],
   "source": [
    "GBP = 1.14\n",
    "NOK = 0.1\n",
    "SEK = 0.1\n",
    "DKK = 0.13"
   ]
  },
  {
   "cell_type": "code",
   "execution_count": 12,
   "metadata": {},
   "outputs": [],
   "source": [
    "amount_eur = []"
   ]
  },
  {
   "cell_type": "code",
   "execution_count": 13,
   "metadata": {},
   "outputs": [],
   "source": [
    "for index, row in master_df.iterrows():\n",
    "    if master_df['currency_id'][index] == 'GBP':\n",
    "        amount_eur.append(master_df['amount'][index] * GBP)\n",
    "    elif master_df['currency_id'][index] == 'NOK':\n",
    "        amount_eur.append(master_df['amount'][index] * NOK)\n",
    "    elif master_df['currency_id'][index] == 'SEK':\n",
    "        amount_eur.append(master_df['amount'][index] * SEK)\n",
    "    elif master_df['currency_id'][index] == 'DKK':\n",
    "        amount_eur.append(master_df['amount'][index] * DKK)\n",
    "    else:\n",
    "        amount_eur.append(master_df['amount'][index])"
   ]
  },
  {
   "cell_type": "code",
   "execution_count": 14,
   "metadata": {},
   "outputs": [],
   "source": [
    "master_df['amount_eur'] = amount_eur"
   ]
  },
  {
   "cell_type": "markdown",
   "metadata": {},
   "source": [
    "<br>\n",
    "<br>\n",
    "We're going to be creating two groups of features - features based on the total amounts per organization, and features based on the counts of transactions by each organization."
   ]
  },
  {
   "cell_type": "markdown",
   "metadata": {},
   "source": [
    "As we're going to be predicting for 3 months, we'll define a 'month' column."
   ]
  },
  {
   "cell_type": "code",
   "execution_count": 15,
   "metadata": {},
   "outputs": [],
   "source": [
    "master_df['month'] = master_df['organization_age'] // 30"
   ]
  },
  {
   "cell_type": "markdown",
   "metadata": {},
   "source": [
    "<br>\n",
    "<br>\n",
    "Right now, we have transaction-level data, and we want organization-level data, so we need to group the values:"
   ]
  },
  {
   "cell_type": "code",
   "execution_count": 16,
   "metadata": {},
   "outputs": [],
   "source": [
    "monthly_cpv_df = pd.DataFrame(master_df.groupby(['organization_id', 'month'])['amount_eur'].sum()).reset_index().pivot(index='organization_id', \n",
    "                                                                                                      columns='month', \n",
    "                                                                                                      values='amount_eur').fillna(0)"
   ]
  },
  {
   "cell_type": "markdown",
   "metadata": {},
   "source": [
    "<br>\n",
    "<br>\n",
    "There's 6 months' worth of data in our dataset, so we'll take only the first 3, as we're going to be predicting those:"
   ]
  },
  {
   "cell_type": "code",
   "execution_count": 17,
   "metadata": {},
   "outputs": [],
   "source": [
    "monthly_cpv_df = monthly_cpv_df.iloc[:,0:3]"
   ]
  },
  {
   "cell_type": "code",
   "execution_count": 18,
   "metadata": {},
   "outputs": [],
   "source": [
    "# Add prefix to columns for more informative name\n",
    "monthly_cpv_df.columns = ['month_' + str(col) for col in monthly_cpv_df.columns]"
   ]
  },
  {
   "cell_type": "markdown",
   "metadata": {},
   "source": [
    "<br>\n",
    "<br>\n",
    "For training the dataset, we only need to use organizations that have been registered on the platform in the last 14 days:"
   ]
  },
  {
   "cell_type": "code",
   "execution_count": 19,
   "metadata": {},
   "outputs": [],
   "source": [
    "fourteen_days_df = master_df[master_df['organization_age'] <= 14]"
   ]
  },
  {
   "cell_type": "markdown",
   "metadata": {},
   "source": [
    "<br>\n",
    "<br>\n",
    "Now let's get on with the feature engineering. First, we create features for the amounts in EUR, for each of the categorical variables - Currency Id, Card Payment Entry Mode, Device Type, and Payment Type."
   ]
  },
  {
   "cell_type": "code",
   "execution_count": 20,
   "metadata": {},
   "outputs": [],
   "source": [
    "# Calculate the features based on each categorical variable\n",
    "amt_currency_df = fourteen_days_df.pivot_table(index='organization_id', columns='currency_id', values='amount_eur', aggfunc=np.sum, fill_value=0)\n",
    "amt_card_payment_df = fourteen_days_df.pivot_table(index='organization_id', columns='card_payment_entry_mode', values='amount_eur', aggfunc=np.sum, fill_value=0)\n",
    "amt_device_df = fourteen_days_df.pivot_table(index='organization_id', columns='device_type', values='amount_eur', aggfunc=np.sum, fill_value=0)\n",
    "amt_payment_df = fourteen_days_df.pivot_table(index='organization_id', columns='payment_type', values='amount_eur', aggfunc=np.sum, fill_value=0)"
   ]
  },
  {
   "cell_type": "code",
   "execution_count": 21,
   "metadata": {},
   "outputs": [],
   "source": [
    "# Create a dataframe of the amounts\n",
    "amounts_df = pd.concat([amt_currency_df,\n",
    "                       amt_card_payment_df,\n",
    "                       amt_device_df,\n",
    "                       amt_payment_df], axis=1)"
   ]
  },
  {
   "cell_type": "code",
   "execution_count": 22,
   "metadata": {},
   "outputs": [],
   "source": [
    "# Rename the features to more informative names\n",
    "amounts_df.columns = ['amt_eur_' + str(col) for col in amounts_df.columns]"
   ]
  },
  {
   "cell_type": "code",
   "execution_count": 23,
   "metadata": {},
   "outputs": [
    {
     "data": {
      "text/html": [
       "<div>\n",
       "<style scoped>\n",
       "    .dataframe tbody tr th:only-of-type {\n",
       "        vertical-align: middle;\n",
       "    }\n",
       "\n",
       "    .dataframe tbody tr th {\n",
       "        vertical-align: top;\n",
       "    }\n",
       "\n",
       "    .dataframe thead th {\n",
       "        text-align: right;\n",
       "    }\n",
       "</style>\n",
       "<table border=\"1\" class=\"dataframe\">\n",
       "  <thead>\n",
       "    <tr style=\"text-align: right;\">\n",
       "      <th></th>\n",
       "      <th>amt_eur_DKK</th>\n",
       "      <th>amt_eur_EUR</th>\n",
       "      <th>amt_eur_GBP</th>\n",
       "      <th>amt_eur_NOK</th>\n",
       "      <th>amt_eur_SEK</th>\n",
       "      <th>amt_eur_CARD_HOLDER_ENTRY</th>\n",
       "      <th>amt_eur_CONTACTLESS_EMV</th>\n",
       "      <th>amt_eur_CONTACTLESS_MAGSTRIPE</th>\n",
       "      <th>amt_eur_EMV</th>\n",
       "      <th>amt_eur_MAGSTRIPE</th>\n",
       "      <th>amt_eur_MANUAL_ENTRY</th>\n",
       "      <th>amt_eur_ANDROID</th>\n",
       "      <th>amt_eur_IPAD</th>\n",
       "      <th>amt_eur_IPHONE</th>\n",
       "      <th>amt_eur_Invalid</th>\n",
       "      <th>amt_eur_Valid</th>\n",
       "    </tr>\n",
       "    <tr>\n",
       "      <th>organization_id</th>\n",
       "      <th></th>\n",
       "      <th></th>\n",
       "      <th></th>\n",
       "      <th></th>\n",
       "      <th></th>\n",
       "      <th></th>\n",
       "      <th></th>\n",
       "      <th></th>\n",
       "      <th></th>\n",
       "      <th></th>\n",
       "      <th></th>\n",
       "      <th></th>\n",
       "      <th></th>\n",
       "      <th></th>\n",
       "      <th></th>\n",
       "      <th></th>\n",
       "    </tr>\n",
       "  </thead>\n",
       "  <tbody>\n",
       "    <tr>\n",
       "      <th>000-4e6abe9c388d</th>\n",
       "      <td>0.0</td>\n",
       "      <td>10.0</td>\n",
       "      <td>0.000</td>\n",
       "      <td>0.0</td>\n",
       "      <td>0.0</td>\n",
       "      <td>0.00</td>\n",
       "      <td>0.0</td>\n",
       "      <td>0.0</td>\n",
       "      <td>10.000</td>\n",
       "      <td>0.0</td>\n",
       "      <td>0.0</td>\n",
       "      <td>10.000</td>\n",
       "      <td>0.0</td>\n",
       "      <td>0.00</td>\n",
       "      <td>0.0</td>\n",
       "      <td>10.000</td>\n",
       "    </tr>\n",
       "    <tr>\n",
       "      <th>001-3b5eba101430</th>\n",
       "      <td>0.0</td>\n",
       "      <td>0.0</td>\n",
       "      <td>60.648</td>\n",
       "      <td>0.0</td>\n",
       "      <td>0.0</td>\n",
       "      <td>0.00</td>\n",
       "      <td>0.0</td>\n",
       "      <td>0.0</td>\n",
       "      <td>60.648</td>\n",
       "      <td>0.0</td>\n",
       "      <td>0.0</td>\n",
       "      <td>60.648</td>\n",
       "      <td>0.0</td>\n",
       "      <td>0.00</td>\n",
       "      <td>0.0</td>\n",
       "      <td>60.648</td>\n",
       "    </tr>\n",
       "    <tr>\n",
       "      <th>001-3d39160884ba</th>\n",
       "      <td>0.0</td>\n",
       "      <td>0.0</td>\n",
       "      <td>2.280</td>\n",
       "      <td>0.0</td>\n",
       "      <td>0.0</td>\n",
       "      <td>1.14</td>\n",
       "      <td>0.0</td>\n",
       "      <td>0.0</td>\n",
       "      <td>1.140</td>\n",
       "      <td>0.0</td>\n",
       "      <td>0.0</td>\n",
       "      <td>0.000</td>\n",
       "      <td>0.0</td>\n",
       "      <td>2.28</td>\n",
       "      <td>0.0</td>\n",
       "      <td>2.280</td>\n",
       "    </tr>\n",
       "    <tr>\n",
       "      <th>001-3e822db41946</th>\n",
       "      <td>0.0</td>\n",
       "      <td>892.7</td>\n",
       "      <td>0.000</td>\n",
       "      <td>0.0</td>\n",
       "      <td>0.0</td>\n",
       "      <td>0.00</td>\n",
       "      <td>18.3</td>\n",
       "      <td>0.0</td>\n",
       "      <td>870.400</td>\n",
       "      <td>4.0</td>\n",
       "      <td>0.0</td>\n",
       "      <td>544.700</td>\n",
       "      <td>0.0</td>\n",
       "      <td>348.00</td>\n",
       "      <td>10.0</td>\n",
       "      <td>882.700</td>\n",
       "    </tr>\n",
       "    <tr>\n",
       "      <th>001-7162bc3e0996</th>\n",
       "      <td>0.0</td>\n",
       "      <td>0.0</td>\n",
       "      <td>0.000</td>\n",
       "      <td>744.0</td>\n",
       "      <td>0.0</td>\n",
       "      <td>0.00</td>\n",
       "      <td>0.0</td>\n",
       "      <td>0.0</td>\n",
       "      <td>744.000</td>\n",
       "      <td>0.0</td>\n",
       "      <td>0.0</td>\n",
       "      <td>744.000</td>\n",
       "      <td>0.0</td>\n",
       "      <td>0.00</td>\n",
       "      <td>0.0</td>\n",
       "      <td>744.000</td>\n",
       "    </tr>\n",
       "  </tbody>\n",
       "</table>\n",
       "</div>"
      ],
      "text/plain": [
       "                  amt_eur_DKK  amt_eur_EUR  amt_eur_GBP  amt_eur_NOK  \\\n",
       "organization_id                                                        \n",
       "000-4e6abe9c388d          0.0         10.0        0.000          0.0   \n",
       "001-3b5eba101430          0.0          0.0       60.648          0.0   \n",
       "001-3d39160884ba          0.0          0.0        2.280          0.0   \n",
       "001-3e822db41946          0.0        892.7        0.000          0.0   \n",
       "001-7162bc3e0996          0.0          0.0        0.000        744.0   \n",
       "\n",
       "                  amt_eur_SEK  amt_eur_CARD_HOLDER_ENTRY  \\\n",
       "organization_id                                            \n",
       "000-4e6abe9c388d          0.0                       0.00   \n",
       "001-3b5eba101430          0.0                       0.00   \n",
       "001-3d39160884ba          0.0                       1.14   \n",
       "001-3e822db41946          0.0                       0.00   \n",
       "001-7162bc3e0996          0.0                       0.00   \n",
       "\n",
       "                  amt_eur_CONTACTLESS_EMV  amt_eur_CONTACTLESS_MAGSTRIPE  \\\n",
       "organization_id                                                            \n",
       "000-4e6abe9c388d                      0.0                            0.0   \n",
       "001-3b5eba101430                      0.0                            0.0   \n",
       "001-3d39160884ba                      0.0                            0.0   \n",
       "001-3e822db41946                     18.3                            0.0   \n",
       "001-7162bc3e0996                      0.0                            0.0   \n",
       "\n",
       "                  amt_eur_EMV  amt_eur_MAGSTRIPE  amt_eur_MANUAL_ENTRY  \\\n",
       "organization_id                                                          \n",
       "000-4e6abe9c388d       10.000                0.0                   0.0   \n",
       "001-3b5eba101430       60.648                0.0                   0.0   \n",
       "001-3d39160884ba        1.140                0.0                   0.0   \n",
       "001-3e822db41946      870.400                4.0                   0.0   \n",
       "001-7162bc3e0996      744.000                0.0                   0.0   \n",
       "\n",
       "                  amt_eur_ANDROID  amt_eur_IPAD  amt_eur_IPHONE  \\\n",
       "organization_id                                                   \n",
       "000-4e6abe9c388d           10.000           0.0            0.00   \n",
       "001-3b5eba101430           60.648           0.0            0.00   \n",
       "001-3d39160884ba            0.000           0.0            2.28   \n",
       "001-3e822db41946          544.700           0.0          348.00   \n",
       "001-7162bc3e0996          744.000           0.0            0.00   \n",
       "\n",
       "                  amt_eur_Invalid  amt_eur_Valid  \n",
       "organization_id                                   \n",
       "000-4e6abe9c388d              0.0         10.000  \n",
       "001-3b5eba101430              0.0         60.648  \n",
       "001-3d39160884ba              0.0          2.280  \n",
       "001-3e822db41946             10.0        882.700  \n",
       "001-7162bc3e0996              0.0        744.000  "
      ]
     },
     "execution_count": 23,
     "metadata": {},
     "output_type": "execute_result"
    }
   ],
   "source": [
    "# Take a look at the dataframe\n",
    "amounts_df.head(5)"
   ]
  },
  {
   "cell_type": "markdown",
   "metadata": {},
   "source": [
    "<br>\n",
    "<br>\n",
    "The second set of features will be based on the transactional counts of each category per organization:"
   ]
  },
  {
   "cell_type": "code",
   "execution_count": 24,
   "metadata": {},
   "outputs": [],
   "source": [
    "# Calculate the features\n",
    "cnt_currency_df = fourteen_days_df.groupby('organization_id')['currency_id'].value_counts().to_frame('counts').reset_index().pivot(index='organization_id', columns='currency_id', values='counts').fillna(0)\n",
    "cnt_card_payment_df = fourteen_days_df.groupby('organization_id')['card_payment_entry_mode'].value_counts().to_frame('counts').reset_index().pivot(index='organization_id', columns='card_payment_entry_mode', values='counts').fillna(0)\n",
    "cnt_device_df = fourteen_days_df.groupby('organization_id')['device_type'].value_counts().to_frame('counts').reset_index().pivot(index='organization_id', columns='device_type', values='counts').fillna(0)\n",
    "cnt_payment_df = fourteen_days_df.groupby('organization_id')['payment_type'].value_counts().to_frame('counts').reset_index().pivot(index='organization_id', columns='payment_type', values='counts').fillna(0)"
   ]
  },
  {
   "cell_type": "code",
   "execution_count": 25,
   "metadata": {},
   "outputs": [],
   "source": [
    "# Create a dataframe of the counts\n",
    "counts_df = pd.concat([cnt_currency_df,\n",
    "                       cnt_card_payment_df,\n",
    "                       cnt_device_df,\n",
    "                       cnt_payment_df], axis=1)"
   ]
  },
  {
   "cell_type": "code",
   "execution_count": 26,
   "metadata": {},
   "outputs": [],
   "source": [
    "# Renamte the features to more informative names\n",
    "counts_df.columns = ['cnt_' + str(col) for col in counts_df.columns]"
   ]
  },
  {
   "cell_type": "code",
   "execution_count": 27,
   "metadata": {},
   "outputs": [
    {
     "data": {
      "text/html": [
       "<div>\n",
       "<style scoped>\n",
       "    .dataframe tbody tr th:only-of-type {\n",
       "        vertical-align: middle;\n",
       "    }\n",
       "\n",
       "    .dataframe tbody tr th {\n",
       "        vertical-align: top;\n",
       "    }\n",
       "\n",
       "    .dataframe thead th {\n",
       "        text-align: right;\n",
       "    }\n",
       "</style>\n",
       "<table border=\"1\" class=\"dataframe\">\n",
       "  <thead>\n",
       "    <tr style=\"text-align: right;\">\n",
       "      <th></th>\n",
       "      <th>cnt_DKK</th>\n",
       "      <th>cnt_EUR</th>\n",
       "      <th>cnt_GBP</th>\n",
       "      <th>cnt_NOK</th>\n",
       "      <th>cnt_SEK</th>\n",
       "      <th>cnt_CARD_HOLDER_ENTRY</th>\n",
       "      <th>cnt_CONTACTLESS_EMV</th>\n",
       "      <th>cnt_CONTACTLESS_MAGSTRIPE</th>\n",
       "      <th>cnt_EMV</th>\n",
       "      <th>cnt_MAGSTRIPE</th>\n",
       "      <th>cnt_MANUAL_ENTRY</th>\n",
       "      <th>cnt_ANDROID</th>\n",
       "      <th>cnt_IPAD</th>\n",
       "      <th>cnt_IPHONE</th>\n",
       "      <th>cnt_Invalid</th>\n",
       "      <th>cnt_Valid</th>\n",
       "    </tr>\n",
       "    <tr>\n",
       "      <th>organization_id</th>\n",
       "      <th></th>\n",
       "      <th></th>\n",
       "      <th></th>\n",
       "      <th></th>\n",
       "      <th></th>\n",
       "      <th></th>\n",
       "      <th></th>\n",
       "      <th></th>\n",
       "      <th></th>\n",
       "      <th></th>\n",
       "      <th></th>\n",
       "      <th></th>\n",
       "      <th></th>\n",
       "      <th></th>\n",
       "      <th></th>\n",
       "      <th></th>\n",
       "    </tr>\n",
       "  </thead>\n",
       "  <tbody>\n",
       "    <tr>\n",
       "      <th>000-4e6abe9c388d</th>\n",
       "      <td>0.0</td>\n",
       "      <td>1.0</td>\n",
       "      <td>0.0</td>\n",
       "      <td>0.0</td>\n",
       "      <td>0.0</td>\n",
       "      <td>0.0</td>\n",
       "      <td>0.0</td>\n",
       "      <td>0.0</td>\n",
       "      <td>1.0</td>\n",
       "      <td>0.0</td>\n",
       "      <td>0.0</td>\n",
       "      <td>1.0</td>\n",
       "      <td>0.0</td>\n",
       "      <td>0.0</td>\n",
       "      <td>0.0</td>\n",
       "      <td>1.0</td>\n",
       "    </tr>\n",
       "    <tr>\n",
       "      <th>001-3b5eba101430</th>\n",
       "      <td>0.0</td>\n",
       "      <td>0.0</td>\n",
       "      <td>1.0</td>\n",
       "      <td>0.0</td>\n",
       "      <td>0.0</td>\n",
       "      <td>0.0</td>\n",
       "      <td>0.0</td>\n",
       "      <td>0.0</td>\n",
       "      <td>1.0</td>\n",
       "      <td>0.0</td>\n",
       "      <td>0.0</td>\n",
       "      <td>1.0</td>\n",
       "      <td>0.0</td>\n",
       "      <td>0.0</td>\n",
       "      <td>0.0</td>\n",
       "      <td>1.0</td>\n",
       "    </tr>\n",
       "    <tr>\n",
       "      <th>001-3d39160884ba</th>\n",
       "      <td>0.0</td>\n",
       "      <td>0.0</td>\n",
       "      <td>2.0</td>\n",
       "      <td>0.0</td>\n",
       "      <td>0.0</td>\n",
       "      <td>1.0</td>\n",
       "      <td>0.0</td>\n",
       "      <td>0.0</td>\n",
       "      <td>1.0</td>\n",
       "      <td>0.0</td>\n",
       "      <td>0.0</td>\n",
       "      <td>0.0</td>\n",
       "      <td>0.0</td>\n",
       "      <td>2.0</td>\n",
       "      <td>0.0</td>\n",
       "      <td>2.0</td>\n",
       "    </tr>\n",
       "    <tr>\n",
       "      <th>001-3e822db41946</th>\n",
       "      <td>0.0</td>\n",
       "      <td>26.0</td>\n",
       "      <td>0.0</td>\n",
       "      <td>0.0</td>\n",
       "      <td>0.0</td>\n",
       "      <td>0.0</td>\n",
       "      <td>1.0</td>\n",
       "      <td>0.0</td>\n",
       "      <td>23.0</td>\n",
       "      <td>2.0</td>\n",
       "      <td>0.0</td>\n",
       "      <td>16.0</td>\n",
       "      <td>0.0</td>\n",
       "      <td>10.0</td>\n",
       "      <td>6.0</td>\n",
       "      <td>20.0</td>\n",
       "    </tr>\n",
       "    <tr>\n",
       "      <th>001-7162bc3e0996</th>\n",
       "      <td>0.0</td>\n",
       "      <td>0.0</td>\n",
       "      <td>0.0</td>\n",
       "      <td>3.0</td>\n",
       "      <td>0.0</td>\n",
       "      <td>0.0</td>\n",
       "      <td>0.0</td>\n",
       "      <td>0.0</td>\n",
       "      <td>3.0</td>\n",
       "      <td>0.0</td>\n",
       "      <td>0.0</td>\n",
       "      <td>3.0</td>\n",
       "      <td>0.0</td>\n",
       "      <td>0.0</td>\n",
       "      <td>0.0</td>\n",
       "      <td>3.0</td>\n",
       "    </tr>\n",
       "  </tbody>\n",
       "</table>\n",
       "</div>"
      ],
      "text/plain": [
       "                  cnt_DKK  cnt_EUR  cnt_GBP  cnt_NOK  cnt_SEK  \\\n",
       "organization_id                                                 \n",
       "000-4e6abe9c388d      0.0      1.0      0.0      0.0      0.0   \n",
       "001-3b5eba101430      0.0      0.0      1.0      0.0      0.0   \n",
       "001-3d39160884ba      0.0      0.0      2.0      0.0      0.0   \n",
       "001-3e822db41946      0.0     26.0      0.0      0.0      0.0   \n",
       "001-7162bc3e0996      0.0      0.0      0.0      3.0      0.0   \n",
       "\n",
       "                  cnt_CARD_HOLDER_ENTRY  cnt_CONTACTLESS_EMV  \\\n",
       "organization_id                                                \n",
       "000-4e6abe9c388d                    0.0                  0.0   \n",
       "001-3b5eba101430                    0.0                  0.0   \n",
       "001-3d39160884ba                    1.0                  0.0   \n",
       "001-3e822db41946                    0.0                  1.0   \n",
       "001-7162bc3e0996                    0.0                  0.0   \n",
       "\n",
       "                  cnt_CONTACTLESS_MAGSTRIPE  cnt_EMV  cnt_MAGSTRIPE  \\\n",
       "organization_id                                                       \n",
       "000-4e6abe9c388d                        0.0      1.0            0.0   \n",
       "001-3b5eba101430                        0.0      1.0            0.0   \n",
       "001-3d39160884ba                        0.0      1.0            0.0   \n",
       "001-3e822db41946                        0.0     23.0            2.0   \n",
       "001-7162bc3e0996                        0.0      3.0            0.0   \n",
       "\n",
       "                  cnt_MANUAL_ENTRY  cnt_ANDROID  cnt_IPAD  cnt_IPHONE  \\\n",
       "organization_id                                                         \n",
       "000-4e6abe9c388d               0.0          1.0       0.0         0.0   \n",
       "001-3b5eba101430               0.0          1.0       0.0         0.0   \n",
       "001-3d39160884ba               0.0          0.0       0.0         2.0   \n",
       "001-3e822db41946               0.0         16.0       0.0        10.0   \n",
       "001-7162bc3e0996               0.0          3.0       0.0         0.0   \n",
       "\n",
       "                  cnt_Invalid  cnt_Valid  \n",
       "organization_id                           \n",
       "000-4e6abe9c388d          0.0        1.0  \n",
       "001-3b5eba101430          0.0        1.0  \n",
       "001-3d39160884ba          0.0        2.0  \n",
       "001-3e822db41946          6.0       20.0  \n",
       "001-7162bc3e0996          0.0        3.0  "
      ]
     },
     "execution_count": 27,
     "metadata": {},
     "output_type": "execute_result"
    }
   ],
   "source": [
    "# Take a look at the dataframe\n",
    "counts_df.head(5)"
   ]
  },
  {
   "cell_type": "markdown",
   "metadata": {},
   "source": [
    "<br>\n",
    "<br>\n",
    "Next up, we're going to construct a dataframe of the features, in order to have all the features in one place:"
   ]
  },
  {
   "cell_type": "code",
   "execution_count": 28,
   "metadata": {},
   "outputs": [],
   "source": [
    "features_df = pd.concat([amounts_df, counts_df], axis=1)"
   ]
  },
  {
   "cell_type": "markdown",
   "metadata": {},
   "source": [
    "<br>\n",
    "<br>\n",
    "Finally, we'll prepare a master, modelling dataframe, which contains both the features and the labels:"
   ]
  },
  {
   "cell_type": "code",
   "execution_count": 29,
   "metadata": {},
   "outputs": [],
   "source": [
    "modeling_df = pd.merge(left=features_df, right=monthly_cpv_df, on='organization_id')"
   ]
  },
  {
   "cell_type": "code",
   "execution_count": 30,
   "metadata": {},
   "outputs": [
    {
     "data": {
      "text/html": [
       "<div>\n",
       "<style scoped>\n",
       "    .dataframe tbody tr th:only-of-type {\n",
       "        vertical-align: middle;\n",
       "    }\n",
       "\n",
       "    .dataframe tbody tr th {\n",
       "        vertical-align: top;\n",
       "    }\n",
       "\n",
       "    .dataframe thead th {\n",
       "        text-align: right;\n",
       "    }\n",
       "</style>\n",
       "<table border=\"1\" class=\"dataframe\">\n",
       "  <thead>\n",
       "    <tr style=\"text-align: right;\">\n",
       "      <th></th>\n",
       "      <th>amt_eur_DKK</th>\n",
       "      <th>amt_eur_EUR</th>\n",
       "      <th>amt_eur_GBP</th>\n",
       "      <th>amt_eur_NOK</th>\n",
       "      <th>amt_eur_SEK</th>\n",
       "      <th>amt_eur_CARD_HOLDER_ENTRY</th>\n",
       "      <th>amt_eur_CONTACTLESS_EMV</th>\n",
       "      <th>amt_eur_CONTACTLESS_MAGSTRIPE</th>\n",
       "      <th>amt_eur_EMV</th>\n",
       "      <th>amt_eur_MAGSTRIPE</th>\n",
       "      <th>...</th>\n",
       "      <th>cnt_MAGSTRIPE</th>\n",
       "      <th>cnt_MANUAL_ENTRY</th>\n",
       "      <th>cnt_ANDROID</th>\n",
       "      <th>cnt_IPAD</th>\n",
       "      <th>cnt_IPHONE</th>\n",
       "      <th>cnt_Invalid</th>\n",
       "      <th>cnt_Valid</th>\n",
       "      <th>month_0</th>\n",
       "      <th>month_1</th>\n",
       "      <th>month_2</th>\n",
       "    </tr>\n",
       "    <tr>\n",
       "      <th>organization_id</th>\n",
       "      <th></th>\n",
       "      <th></th>\n",
       "      <th></th>\n",
       "      <th></th>\n",
       "      <th></th>\n",
       "      <th></th>\n",
       "      <th></th>\n",
       "      <th></th>\n",
       "      <th></th>\n",
       "      <th></th>\n",
       "      <th></th>\n",
       "      <th></th>\n",
       "      <th></th>\n",
       "      <th></th>\n",
       "      <th></th>\n",
       "      <th></th>\n",
       "      <th></th>\n",
       "      <th></th>\n",
       "      <th></th>\n",
       "      <th></th>\n",
       "      <th></th>\n",
       "    </tr>\n",
       "  </thead>\n",
       "  <tbody>\n",
       "    <tr>\n",
       "      <th>000-4e6abe9c388d</th>\n",
       "      <td>0.0</td>\n",
       "      <td>10.0</td>\n",
       "      <td>0.000</td>\n",
       "      <td>0.0</td>\n",
       "      <td>0.0</td>\n",
       "      <td>0.00</td>\n",
       "      <td>0.0</td>\n",
       "      <td>0.0</td>\n",
       "      <td>10.000</td>\n",
       "      <td>0.0</td>\n",
       "      <td>...</td>\n",
       "      <td>0.0</td>\n",
       "      <td>0.0</td>\n",
       "      <td>1.0</td>\n",
       "      <td>0.0</td>\n",
       "      <td>0.0</td>\n",
       "      <td>0.0</td>\n",
       "      <td>1.0</td>\n",
       "      <td>10.000</td>\n",
       "      <td>0.0</td>\n",
       "      <td>0.00</td>\n",
       "    </tr>\n",
       "    <tr>\n",
       "      <th>001-3b5eba101430</th>\n",
       "      <td>0.0</td>\n",
       "      <td>0.0</td>\n",
       "      <td>60.648</td>\n",
       "      <td>0.0</td>\n",
       "      <td>0.0</td>\n",
       "      <td>0.00</td>\n",
       "      <td>0.0</td>\n",
       "      <td>0.0</td>\n",
       "      <td>60.648</td>\n",
       "      <td>0.0</td>\n",
       "      <td>...</td>\n",
       "      <td>0.0</td>\n",
       "      <td>0.0</td>\n",
       "      <td>1.0</td>\n",
       "      <td>0.0</td>\n",
       "      <td>0.0</td>\n",
       "      <td>0.0</td>\n",
       "      <td>1.0</td>\n",
       "      <td>174.648</td>\n",
       "      <td>0.0</td>\n",
       "      <td>0.00</td>\n",
       "    </tr>\n",
       "    <tr>\n",
       "      <th>001-3d39160884ba</th>\n",
       "      <td>0.0</td>\n",
       "      <td>0.0</td>\n",
       "      <td>2.280</td>\n",
       "      <td>0.0</td>\n",
       "      <td>0.0</td>\n",
       "      <td>1.14</td>\n",
       "      <td>0.0</td>\n",
       "      <td>0.0</td>\n",
       "      <td>1.140</td>\n",
       "      <td>0.0</td>\n",
       "      <td>...</td>\n",
       "      <td>0.0</td>\n",
       "      <td>0.0</td>\n",
       "      <td>0.0</td>\n",
       "      <td>0.0</td>\n",
       "      <td>2.0</td>\n",
       "      <td>0.0</td>\n",
       "      <td>2.0</td>\n",
       "      <td>2.280</td>\n",
       "      <td>114.0</td>\n",
       "      <td>115.71</td>\n",
       "    </tr>\n",
       "    <tr>\n",
       "      <th>001-3e822db41946</th>\n",
       "      <td>0.0</td>\n",
       "      <td>892.7</td>\n",
       "      <td>0.000</td>\n",
       "      <td>0.0</td>\n",
       "      <td>0.0</td>\n",
       "      <td>0.00</td>\n",
       "      <td>18.3</td>\n",
       "      <td>0.0</td>\n",
       "      <td>870.400</td>\n",
       "      <td>4.0</td>\n",
       "      <td>...</td>\n",
       "      <td>2.0</td>\n",
       "      <td>0.0</td>\n",
       "      <td>16.0</td>\n",
       "      <td>0.0</td>\n",
       "      <td>10.0</td>\n",
       "      <td>6.0</td>\n",
       "      <td>20.0</td>\n",
       "      <td>2517.000</td>\n",
       "      <td>986.9</td>\n",
       "      <td>1789.15</td>\n",
       "    </tr>\n",
       "    <tr>\n",
       "      <th>001-7162bc3e0996</th>\n",
       "      <td>0.0</td>\n",
       "      <td>0.0</td>\n",
       "      <td>0.000</td>\n",
       "      <td>744.0</td>\n",
       "      <td>0.0</td>\n",
       "      <td>0.00</td>\n",
       "      <td>0.0</td>\n",
       "      <td>0.0</td>\n",
       "      <td>744.000</td>\n",
       "      <td>0.0</td>\n",
       "      <td>...</td>\n",
       "      <td>0.0</td>\n",
       "      <td>0.0</td>\n",
       "      <td>3.0</td>\n",
       "      <td>0.0</td>\n",
       "      <td>0.0</td>\n",
       "      <td>0.0</td>\n",
       "      <td>3.0</td>\n",
       "      <td>2605.000</td>\n",
       "      <td>1535.0</td>\n",
       "      <td>1170.00</td>\n",
       "    </tr>\n",
       "  </tbody>\n",
       "</table>\n",
       "<p>5 rows × 35 columns</p>\n",
       "</div>"
      ],
      "text/plain": [
       "                  amt_eur_DKK  amt_eur_EUR  amt_eur_GBP  amt_eur_NOK  \\\n",
       "organization_id                                                        \n",
       "000-4e6abe9c388d          0.0         10.0        0.000          0.0   \n",
       "001-3b5eba101430          0.0          0.0       60.648          0.0   \n",
       "001-3d39160884ba          0.0          0.0        2.280          0.0   \n",
       "001-3e822db41946          0.0        892.7        0.000          0.0   \n",
       "001-7162bc3e0996          0.0          0.0        0.000        744.0   \n",
       "\n",
       "                  amt_eur_SEK  amt_eur_CARD_HOLDER_ENTRY  \\\n",
       "organization_id                                            \n",
       "000-4e6abe9c388d          0.0                       0.00   \n",
       "001-3b5eba101430          0.0                       0.00   \n",
       "001-3d39160884ba          0.0                       1.14   \n",
       "001-3e822db41946          0.0                       0.00   \n",
       "001-7162bc3e0996          0.0                       0.00   \n",
       "\n",
       "                  amt_eur_CONTACTLESS_EMV  amt_eur_CONTACTLESS_MAGSTRIPE  \\\n",
       "organization_id                                                            \n",
       "000-4e6abe9c388d                      0.0                            0.0   \n",
       "001-3b5eba101430                      0.0                            0.0   \n",
       "001-3d39160884ba                      0.0                            0.0   \n",
       "001-3e822db41946                     18.3                            0.0   \n",
       "001-7162bc3e0996                      0.0                            0.0   \n",
       "\n",
       "                  amt_eur_EMV  amt_eur_MAGSTRIPE  ...  cnt_MAGSTRIPE  \\\n",
       "organization_id                                   ...                  \n",
       "000-4e6abe9c388d       10.000                0.0  ...            0.0   \n",
       "001-3b5eba101430       60.648                0.0  ...            0.0   \n",
       "001-3d39160884ba        1.140                0.0  ...            0.0   \n",
       "001-3e822db41946      870.400                4.0  ...            2.0   \n",
       "001-7162bc3e0996      744.000                0.0  ...            0.0   \n",
       "\n",
       "                  cnt_MANUAL_ENTRY  cnt_ANDROID  cnt_IPAD  cnt_IPHONE  \\\n",
       "organization_id                                                         \n",
       "000-4e6abe9c388d               0.0          1.0       0.0         0.0   \n",
       "001-3b5eba101430               0.0          1.0       0.0         0.0   \n",
       "001-3d39160884ba               0.0          0.0       0.0         2.0   \n",
       "001-3e822db41946               0.0         16.0       0.0        10.0   \n",
       "001-7162bc3e0996               0.0          3.0       0.0         0.0   \n",
       "\n",
       "                  cnt_Invalid  cnt_Valid   month_0  month_1  month_2  \n",
       "organization_id                                                       \n",
       "000-4e6abe9c388d          0.0        1.0    10.000      0.0     0.00  \n",
       "001-3b5eba101430          0.0        1.0   174.648      0.0     0.00  \n",
       "001-3d39160884ba          0.0        2.0     2.280    114.0   115.71  \n",
       "001-3e822db41946          6.0       20.0  2517.000    986.9  1789.15  \n",
       "001-7162bc3e0996          0.0        3.0  2605.000   1535.0  1170.00  \n",
       "\n",
       "[5 rows x 35 columns]"
      ]
     },
     "execution_count": 30,
     "metadata": {},
     "output_type": "execute_result"
    }
   ],
   "source": [
    "# Peek into the dataframe\n",
    "modeling_df.head(5)"
   ]
  },
  {
   "cell_type": "markdown",
   "metadata": {},
   "source": [
    "<br>\n",
    "<br>\n",
    "Now we create a master dataframe for modeling:"
   ]
  },
  {
   "cell_type": "markdown",
   "metadata": {},
   "source": [
    "<br>\n",
    "<br>"
   ]
  },
  {
   "cell_type": "markdown",
   "metadata": {},
   "source": [
    "## Modeling ##"
   ]
  },
  {
   "cell_type": "markdown",
   "metadata": {},
   "source": [
    "We're going to be building 3 separate models, one for each of the 3 months. We're going to use the Random Forest algorithm, as it has excellent performance out-of-the-box, rarely overfits, and does automated feature selection. We'll start by creating a train/test split for each model. One thing to note is that we are going to set the random seed when splitting, so that we achieve the same split for each model."
   ]
  },
  {
   "cell_type": "markdown",
   "metadata": {},
   "source": [
    "### Month 1 Model ###"
   ]
  },
  {
   "cell_type": "code",
   "execution_count": 34,
   "metadata": {},
   "outputs": [],
   "source": [
    "# Train/test split\n",
    "X_train, X_test, y_train, y_test = train_test_split(modeling_df, modeling_df['month_0'],\n",
    "                                                    test_size=0.3, random_state=176)"
   ]
  },
  {
   "cell_type": "code",
   "execution_count": 35,
   "metadata": {},
   "outputs": [],
   "source": [
    "# We need to drop the redundant columns from the training and testing sets\n",
    "X_train.drop(['month_0', 'month_1', 'month_2'], axis=1, inplace=True)\n",
    "X_test.drop(['month_0', 'month_1', 'month_2'], axis=1, inplace=True)"
   ]
  },
  {
   "cell_type": "code",
   "execution_count": 36,
   "metadata": {},
   "outputs": [],
   "source": [
    "# Train the model and generate the predictions\n",
    "rf_model_1 = RandomForestRegressor(random_state=332).fit(X_train, y_train)\n",
    "rf_predictions_1 = rf_model_1.predict(X_test)"
   ]
  },
  {
   "cell_type": "markdown",
   "metadata": {},
   "source": [
    "<br>\n",
    "<br>\n",
    "Let's calculate the basic regression accuracy metrics:"
   ]
  },
  {
   "cell_type": "code",
   "execution_count": 37,
   "metadata": {},
   "outputs": [],
   "source": [
    "# Mean Absolute Deviation\n",
    "mae_1 = mean_absolute_error(y_test, rf_predictions_1)"
   ]
  },
  {
   "cell_type": "code",
   "execution_count": 38,
   "metadata": {},
   "outputs": [],
   "source": [
    "# Root Mean Squared Error\n",
    "rmse_1 = np.sqrt(mean_squared_error(y_test, rf_predictions_1))"
   ]
  },
  {
   "cell_type": "markdown",
   "metadata": {},
   "source": [
    "<br>\n",
    "<br>\n",
    "Let's take calculate the feature importances of our model:"
   ]
  },
  {
   "cell_type": "code",
   "execution_count": 39,
   "metadata": {},
   "outputs": [],
   "source": [
    "feat_importances_1 = pd.Series(rf_model_1.feature_importances_, index=X_test.columns)"
   ]
  },
  {
   "cell_type": "markdown",
   "metadata": {},
   "source": [
    "<br>\n",
    "<br>"
   ]
  },
  {
   "cell_type": "markdown",
   "metadata": {},
   "source": [
    "### Month 2 Model ###"
   ]
  },
  {
   "cell_type": "code",
   "execution_count": 42,
   "metadata": {},
   "outputs": [],
   "source": [
    "# Train/test split\n",
    "X_train, X_test, y_train, y_test = train_test_split(modeling_df, modeling_df['month_1'],\n",
    "                                                    test_size=0.3, random_state=176)"
   ]
  },
  {
   "cell_type": "code",
   "execution_count": 43,
   "metadata": {},
   "outputs": [],
   "source": [
    "# We need to drop the redundant columns from the training and testing sets\n",
    "X_train.drop(['month_0', 'month_1', 'month_2'], axis=1, inplace=True)\n",
    "X_test.drop(['month_0', 'month_1', 'month_2'], axis=1, inplace=True)"
   ]
  },
  {
   "cell_type": "code",
   "execution_count": 44,
   "metadata": {},
   "outputs": [],
   "source": [
    "# Train the model and generate the predictions\n",
    "rf_model_2 = RandomForestRegressor(random_state=332).fit(X_train, y_train)\n",
    "rf_predictions_2 = rf_model_2.predict(X_test)"
   ]
  },
  {
   "cell_type": "code",
   "execution_count": 45,
   "metadata": {},
   "outputs": [],
   "source": [
    "# Mean Absolute Deviation\n",
    "mae_2 = mean_absolute_error(y_test, rf_predictions_2)\n",
    "\n",
    "# Root Mean Squared Error\n",
    "rmse_2 = np.sqrt(mean_squared_error(y_test, rf_predictions_2))"
   ]
  },
  {
   "cell_type": "code",
   "execution_count": 46,
   "metadata": {},
   "outputs": [],
   "source": [
    "feat_importances_2 = pd.Series(rf_model_2.feature_importances_, index=X_test.columns)"
   ]
  },
  {
   "cell_type": "markdown",
   "metadata": {},
   "source": [
    "<br>\n",
    "<br>"
   ]
  },
  {
   "cell_type": "markdown",
   "metadata": {},
   "source": [
    "### Month 3 Model ###"
   ]
  },
  {
   "cell_type": "code",
   "execution_count": 49,
   "metadata": {},
   "outputs": [],
   "source": [
    "# Train/test split\n",
    "X_train, X_test, y_train, y_test = train_test_split(modeling_df, modeling_df['month_2'],\n",
    "                                                    test_size=0.3, random_state=176)"
   ]
  },
  {
   "cell_type": "code",
   "execution_count": 50,
   "metadata": {},
   "outputs": [],
   "source": [
    "# We need to drop the redundant columns from the training and testing sets\n",
    "X_train.drop(['month_0', 'month_1', 'month_2'], axis=1, inplace=True)\n",
    "X_test.drop(['month_0', 'month_1', 'month_2'], axis=1, inplace=True)"
   ]
  },
  {
   "cell_type": "code",
   "execution_count": 51,
   "metadata": {},
   "outputs": [],
   "source": [
    "# Train the model and generate the predictions\n",
    "rf_model_3 = RandomForestRegressor(random_state=332).fit(X_train, y_train)\n",
    "rf_predictions_3 = rf_model_3.predict(X_test)"
   ]
  },
  {
   "cell_type": "code",
   "execution_count": 52,
   "metadata": {},
   "outputs": [],
   "source": [
    "# Mean Absolute Deviation\n",
    "mae_3 = mean_absolute_error(y_test, rf_predictions_3)\n",
    "\n",
    "# Root Mean Squared Error\n",
    "rmse_3 = np.sqrt(mean_squared_error(y_test, rf_predictions_3))"
   ]
  },
  {
   "cell_type": "code",
   "execution_count": 53,
   "metadata": {},
   "outputs": [],
   "source": [
    "feat_importances_3 = pd.Series(rf_model_3.feature_importances_, index=X_test.columns)"
   ]
  },
  {
   "cell_type": "markdown",
   "metadata": {},
   "source": [
    "<br>\n",
    "<br>"
   ]
  },
  {
   "cell_type": "markdown",
   "metadata": {},
   "source": [
    "## Model Metrics ##"
   ]
  },
  {
   "cell_type": "markdown",
   "metadata": {},
   "source": [
    "We've calculated the MAE and RMSE for each of the models, so let's present them in an easy to view fashion:"
   ]
  },
  {
   "cell_type": "code",
   "execution_count": 54,
   "metadata": {},
   "outputs": [
    {
     "data": {
      "text/html": [
       "<div>\n",
       "<style scoped>\n",
       "    .dataframe tbody tr th:only-of-type {\n",
       "        vertical-align: middle;\n",
       "    }\n",
       "\n",
       "    .dataframe tbody tr th {\n",
       "        vertical-align: top;\n",
       "    }\n",
       "\n",
       "    .dataframe thead th {\n",
       "        text-align: right;\n",
       "    }\n",
       "</style>\n",
       "<table border=\"1\" class=\"dataframe\">\n",
       "  <thead>\n",
       "    <tr style=\"text-align: right;\">\n",
       "      <th></th>\n",
       "      <th>MAE</th>\n",
       "      <th>RMSE</th>\n",
       "    </tr>\n",
       "  </thead>\n",
       "  <tbody>\n",
       "    <tr>\n",
       "      <th>Month 1</th>\n",
       "      <td>668.118897</td>\n",
       "      <td>1941.993353</td>\n",
       "    </tr>\n",
       "    <tr>\n",
       "      <th>Month 2</th>\n",
       "      <td>1168.799227</td>\n",
       "      <td>3450.218759</td>\n",
       "    </tr>\n",
       "    <tr>\n",
       "      <th>Month 3</th>\n",
       "      <td>1301.023010</td>\n",
       "      <td>3892.378690</td>\n",
       "    </tr>\n",
       "  </tbody>\n",
       "</table>\n",
       "</div>"
      ],
      "text/plain": [
       "                 MAE         RMSE\n",
       "Month 1   668.118897  1941.993353\n",
       "Month 2  1168.799227  3450.218759\n",
       "Month 3  1301.023010  3892.378690"
      ]
     },
     "execution_count": 54,
     "metadata": {},
     "output_type": "execute_result"
    }
   ],
   "source": [
    "metrics = {'MAE': [mae_1, mae_2, mae_3], 'RMSE': [rmse_1, rmse_2, rmse_3]}\n",
    "metrics_df = pd.DataFrame(metrics, index=['Month 1', 'Month 2', 'Month 3'])\n",
    "metrics_df"
   ]
  },
  {
   "cell_type": "markdown",
   "metadata": {},
   "source": [
    "<br>\n",
    "<br>\n",
    "Let's take a look at the feature importance plots for the 3 models:"
   ]
  },
  {
   "cell_type": "markdown",
   "metadata": {},
   "source": [
    "### Feature Importance for Month 1 Model ###"
   ]
  },
  {
   "cell_type": "code",
   "execution_count": 55,
   "metadata": {},
   "outputs": [
    {
     "data": {
      "text/plain": [
       "<matplotlib.axes._subplots.AxesSubplot at 0x1ab9065b788>"
      ]
     },
     "execution_count": 55,
     "metadata": {},
     "output_type": "execute_result"
    },
    {
     "data": {
      "image/png": "[encoded data removed]",
      "text/plain": [
       "<Figure size 432x288 with 1 Axes>"
      ]
     },
     "metadata": {
      "needs_background": "light"
     },
     "output_type": "display_data"
    }
   ],
   "source": [
    "feat_importances_1.nlargest(20).plot(kind='barh')"
   ]
  },
  {
   "cell_type": "markdown",
   "metadata": {},
   "source": [
    "<br>"
   ]
  },
  {
   "cell_type": "markdown",
   "metadata": {},
   "source": [
    "### Feature Importance for Month 2 Model ###"
   ]
  },
  {
   "cell_type": "code",
   "execution_count": 56,
   "metadata": {},
   "outputs": [
    {
     "data": {
      "text/plain": [
       "<matplotlib.axes._subplots.AxesSubplot at 0x1ab9069fa08>"
      ]
     },
     "execution_count": 56,
     "metadata": {},
     "output_type": "execute_result"
    },
    {
     "data": {
      "image/png": "[encoded data removed]",
      "text/plain": [
       "<Figure size 432x288 with 1 Axes>"
      ]
     },
     "metadata": {
      "needs_background": "light"
     },
     "output_type": "display_data"
    }
   ],
   "source": [
    "feat_importances_2.nlargest(20).plot(kind='barh')"
   ]
  },
  {
   "cell_type": "markdown",
   "metadata": {},
   "source": [
    "<br>"
   ]
  },
  {
   "cell_type": "markdown",
   "metadata": {},
   "source": [
    "### Feature Importance for Month 3 Model ###"
   ]
  },
  {
   "cell_type": "code",
   "execution_count": 57,
   "metadata": {},
   "outputs": [
    {
     "data": {
      "text/plain": [
       "<matplotlib.axes._subplots.AxesSubplot at 0x1ab907d8fc8>"
      ]
     },
     "execution_count": 57,
     "metadata": {},
     "output_type": "execute_result"
    },
    {
     "data": {
      "image/png": "[encoded data removed]",
      "text/plain": [
       "<Figure size 432x288 with 1 Axes>"
      ]
     },
     "metadata": {
      "needs_background": "light"
     },
     "output_type": "display_data"
    }
   ],
   "source": [
    "feat_importances_3.nlargest(20).plot(kind='barh')"
   ]
  },
  {
   "cell_type": "markdown",
   "metadata": {},
   "source": [
    "<br>\n",
    "<br>"
   ]
  },
  {
   "cell_type": "markdown",
   "metadata": {},
   "source": [
    "## Saving the Model ##"
   ]
  },
  {
   "cell_type": "markdown",
   "metadata": {},
   "source": [
    "In order to re-use our models in a RESTful API service, we need to save them to disk. We could use either joblib or pickle. Here we go with pickle."
   ]
  },
  {
   "cell_type": "code",
   "execution_count": 58,
   "metadata": {},
   "outputs": [],
   "source": [
    "pickle.dump(rf_model_1, open('rf_model_1.pickle', 'wb'))\n",
    "pickle.dump(rf_model_2, open('rf_model_2.pickle', 'wb'))\n",
    "pickle.dump(rf_model_3, open('rf_model_3.pickle', 'wb'))"
   ]
  }
 ],
 "metadata": {
  "kernelspec": {
   "display_name": "Python 3",
   "language": "python",
   "name": "python3"
  },
  "language_info": {
   "codemirror_mode": {
    "name": "ipython",
    "version": 3
   },
   "file_extension": ".py",
   "mimetype": "text/x-python",
   "name": "python",
   "nbconvert_exporter": "python",
   "pygments_lexer": "ipython3",
   "version": "3.7.7"
  }
 },
 "nbformat": 4,
 "nbformat_minor": 4
}
