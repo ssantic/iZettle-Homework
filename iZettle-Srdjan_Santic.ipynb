{
 "cells": [
  {
   "cell_type": "markdown",
   "metadata": {},
   "source": [
    "## iZettle Data Science Assignment - CPV ##"
   ]
  },
  {
   "cell_type": "markdown",
   "metadata": {},
   "source": [
    "Thanks for taking time to complete the iZettle data science assignment.\n",
    "<br>\n",
    "This is to give you an idea about the challenges that we may face at iZettle. Also, it will help us understand how you would tackle them.\n",
    "<br>\n",
    "Feel free to scope the assignment as appropriate. Make sure to motivate what you did and why."
   ]
  },
  {
   "cell_type": "markdown",
   "metadata": {},
   "source": [
    "The goal is to estimate the Card Payment Volume (CPV) of each organization\n",
    "during their first, second and third month after creation (i.e. the sum of the\n",
    "amount of every transaction in each month). The prediction should be based\n",
    "on the first 14 days of data after the organization was created."
   ]
  },
  {
   "cell_type": "markdown",
   "metadata": {},
   "source": [
    "You’ll find two CSV files attached with the following data:"
   ]
  },
  {
   "cell_type": "markdown",
   "metadata": {},
   "source": [
    "data/organization_ids.csv:\n",
    "- organization_id Unique identifier for each organization\n",
    "- organization_created Date on which organization was onboarded"
   ]
  },
  {
   "cell_type": "markdown",
   "metadata": {},
   "source": [
    "data/payment_ids.csv:\n",
    "- organization_id Unique identifier for each organization\n",
    "- card_payment_id Unique identifier for a payment that was completed\n",
    "- timestamp Time of event\n",
    "- currency_id Currency\n",
    "- amount Amount of the transaction\n",
    "- device_type The device connected to the card reader\n",
    "- card_payment_entry_mode Payment technology\n",
    "- payment_type Valid payment or invalid"
   ]
  },
  {
   "cell_type": "markdown",
   "metadata": {},
   "source": [
    "### Imports ###"
   ]
  },
  {
   "cell_type": "code",
   "execution_count": 1,
   "metadata": {},
   "outputs": [],
   "source": [
    "import pandas as pd\n",
    "import numpy as np"
   ]
  },
  {
   "cell_type": "markdown",
   "metadata": {},
   "source": [
    "### Data Loading and Preparation ###"
   ]
  },
  {
   "cell_type": "markdown",
   "metadata": {},
   "source": [
    "We'll load the 2 csv's, and merge them on the organization id."
   ]
  },
  {
   "cell_type": "code",
   "execution_count": 29,
   "metadata": {},
   "outputs": [],
   "source": [
    "payment_df = pd.read_csv('payment_ids.csv')"
   ]
  },
  {
   "cell_type": "code",
   "execution_count": 30,
   "metadata": {},
   "outputs": [],
   "source": [
    "organization_df = pd.read_csv('organization_ids.csv')"
   ]
  },
  {
   "cell_type": "code",
   "execution_count": 34,
   "metadata": {},
   "outputs": [],
   "source": [
    "master_df = pd.merge(payment_df, organization_df, on='organization_id')"
   ]
  },
  {
   "cell_type": "markdown",
   "metadata": {},
   "source": [
    "<br>\n",
    "<br>\n",
    "The column with the payment amount contains values in multiple currencies. In order to make meaningful predictions, we need to make the amounts uniform. We're going to convert all the amounts to Euros. First, we create variables for the different exchange rates. Then we create a list for EUR amounts which will be used for conversion. Then we convert the currencies, and add the column to the dataframe."
   ]
  },
  {
   "cell_type": "code",
   "execution_count": 35,
   "metadata": {},
   "outputs": [],
   "source": [
    "GBP = 1.14\n",
    "NOK = 0.1\n",
    "SEK = 0.1\n",
    "DKK = 0.13"
   ]
  },
  {
   "cell_type": "code",
   "execution_count": 36,
   "metadata": {},
   "outputs": [],
   "source": [
    "amount_eur = []"
   ]
  },
  {
   "cell_type": "code",
   "execution_count": 37,
   "metadata": {},
   "outputs": [],
   "source": [
    "for index, row in master_df.iterrows():\n",
    "    if master_df['currency_id'][index] == 'GBP':\n",
    "        amount_eur.append(master_df['amount'][index] * GBP)\n",
    "    elif master_df['currency_id'][index] == 'NOK':\n",
    "        amount_eur.append(master_df['amount'][index] * NOK)\n",
    "    elif master_df['currency_id'][index] == 'SEK':\n",
    "        amount_eur.append(master_df['amount'][index] * SEK)\n",
    "    elif master_df['currency_id'][index] == 'DKK':\n",
    "        amount_eur.append(master_df['amount'][index] * DKK)\n",
    "    else:\n",
    "        amount_eur.append(master_df['amount'][index])"
   ]
  },
  {
   "cell_type": "code",
   "execution_count": 38,
   "metadata": {},
   "outputs": [],
   "source": [
    "master_df['amount_eur'] = amount_eur"
   ]
  },
  {
   "cell_type": "markdown",
   "metadata": {},
   "source": [
    "<br>\n",
    "<br>\n",
    "Let's take a quick look at the categorical columns, and see how they're distributed."
   ]
  },
  {
   "cell_type": "code",
   "execution_count": 39,
   "metadata": {},
   "outputs": [
    {
     "data": {
      "text/plain": [
       "Index(['organization_id', 'timestamp', 'amount', 'currency_id',\n",
       "       'card_payment_entry_mode', 'device_type', 'payment_type',\n",
       "       'organization_created', 'amount_eur'],\n",
       "      dtype='object')"
      ]
     },
     "execution_count": 39,
     "metadata": {},
     "output_type": "execute_result"
    }
   ],
   "source": [
    "master_df.columns"
   ]
  },
  {
   "cell_type": "code",
   "execution_count": 40,
   "metadata": {},
   "outputs": [
    {
     "data": {
      "text/plain": [
       "IPAD       525853\n",
       "IPHONE     233479\n",
       "ANDROID    176066\n",
       "Name: device_type, dtype: int64"
      ]
     },
     "execution_count": 40,
     "metadata": {},
     "output_type": "execute_result"
    }
   ],
   "source": [
    "master_df['device_type'].value_counts()"
   ]
  },
  {
   "cell_type": "code",
   "execution_count": 41,
   "metadata": {},
   "outputs": [
    {
     "data": {
      "text/plain": [
       "Valid      873597\n",
       "Invalid     61801\n",
       "Name: payment_type, dtype: int64"
      ]
     },
     "execution_count": 41,
     "metadata": {},
     "output_type": "execute_result"
    }
   ],
   "source": [
    "master_df['payment_type'].value_counts()"
   ]
  },
  {
   "cell_type": "code",
   "execution_count": 42,
   "metadata": {},
   "outputs": [
    {
     "data": {
      "text/plain": [
       "EMV                      794062\n",
       "CONTACTLESS_EMV          138415\n",
       "MAGSTRIPE                  2700\n",
       "MANUAL_ENTRY                102\n",
       "CARD_HOLDER_ENTRY            69\n",
       "CONTACTLESS_MAGSTRIPE        50\n",
       "Name: card_payment_entry_mode, dtype: int64"
      ]
     },
     "execution_count": 42,
     "metadata": {},
     "output_type": "execute_result"
    }
   ],
   "source": [
    "master_df['card_payment_entry_mode'].value_counts()"
   ]
  },
  {
   "cell_type": "code",
   "execution_count": 43,
   "metadata": {},
   "outputs": [
    {
     "data": {
      "text/plain": [
       "GBP    318020\n",
       "SEK    246520\n",
       "EUR    181686\n",
       "NOK    126994\n",
       "DKK     62178\n",
       "Name: currency_id, dtype: int64"
      ]
     },
     "execution_count": 43,
     "metadata": {},
     "output_type": "execute_result"
    }
   ],
   "source": [
    "master_df['currency_id'].value_counts()"
   ]
  },
  {
   "cell_type": "code",
   "execution_count": null,
   "metadata": {},
   "outputs": [],
   "source": []
  }
 ],
 "metadata": {
  "kernelspec": {
   "display_name": "Python 3",
   "language": "python",
   "name": "python3"
  },
  "language_info": {
   "codemirror_mode": {
    "name": "ipython",
    "version": 3
   },
   "file_extension": ".py",
   "mimetype": "text/x-python",
   "name": "python",
   "nbconvert_exporter": "python",
   "pygments_lexer": "ipython3",
   "version": "3.7.7"
  }
 },
 "nbformat": 4,
 "nbformat_minor": 4
}
