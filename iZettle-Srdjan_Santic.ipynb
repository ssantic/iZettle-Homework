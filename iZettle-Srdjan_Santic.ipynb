{
 "cells": [
  {
   "cell_type": "markdown",
   "metadata": {},
   "source": [
    "## iZettle Data Science Assignment - CPV ##"
   ]
  },
  {
   "cell_type": "markdown",
   "metadata": {},
   "source": [
    "Thanks for taking time to complete the iZettle data science assignment.\n",
    "<br>\n",
    "This is to give you an idea about the challenges that we may face at iZettle. Also, it will help us understand how you would tackle them.\n",
    "<br>\n",
    "Feel free to scope the assignment as appropriate. Make sure to motivate what you did and why."
   ]
  },
  {
   "cell_type": "markdown",
   "metadata": {},
   "source": [
    "The goal is to estimate the Card Payment Volume (CPV) of each organization\n",
    "during their first, second and third month after creation (i.e. the sum of the\n",
    "amount of every transaction in each month). The prediction should be based\n",
    "on the first 14 days of data after the organization was created."
   ]
  },
  {
   "cell_type": "markdown",
   "metadata": {},
   "source": [
    "You’ll find two CSV files attached with the following data:"
   ]
  },
  {
   "cell_type": "markdown",
   "metadata": {},
   "source": [
    "data/organization_ids.csv:\n",
    "- organization_id Unique identifier for each organization\n",
    "- organization_created Date on which organization was onboarded"
   ]
  },
  {
   "cell_type": "markdown",
   "metadata": {},
   "source": [
    "data/payment_ids.csv:\n",
    "- organization_id Unique identifier for each organization\n",
    "- card_payment_id Unique identifier for a payment that was completed\n",
    "- timestamp Time of event\n",
    "- currency_id Currency\n",
    "- amount Amount of the transaction\n",
    "- device_type The device connected to the card reader\n",
    "- card_payment_entry_mode Payment technology\n",
    "- payment_type Valid payment or invalid"
   ]
  },
  {
   "cell_type": "markdown",
   "metadata": {},
   "source": [
    "### Imports ###"
   ]
  },
  {
   "cell_type": "code",
   "execution_count": 1,
   "metadata": {},
   "outputs": [],
   "source": [
    "import pandas as pd\n",
    "import numpy as np"
   ]
  },
  {
   "cell_type": "markdown",
   "metadata": {},
   "source": [
    "### Data Loading and Preparation ###"
   ]
  },
  {
   "cell_type": "markdown",
   "metadata": {},
   "source": [
    "We'll load the 2 csv's, and merge them on the organization id."
   ]
  },
  {
   "cell_type": "code",
   "execution_count": 2,
   "metadata": {},
   "outputs": [],
   "source": [
    "payment_df = pd.read_csv('payment_ids.csv')"
   ]
  },
  {
   "cell_type": "code",
   "execution_count": 3,
   "metadata": {},
   "outputs": [],
   "source": [
    "organization_df = pd.read_csv('organization_ids.csv')"
   ]
  },
  {
   "cell_type": "code",
   "execution_count": 4,
   "metadata": {},
   "outputs": [],
   "source": [
    "master_df = pd.merge(payment_df, organization_df, on='organization_id')"
   ]
  },
  {
   "cell_type": "markdown",
   "metadata": {},
   "source": [
    "<br>\n",
    "<br>\n",
    "Let's take a quick look at the categorical columns, and see how they're distributed."
   ]
  },
  {
   "cell_type": "code",
   "execution_count": 5,
   "metadata": {},
   "outputs": [
    {
     "data": {
      "text/plain": [
       "Index(['organization_id', 'timestamp', 'amount', 'currency_id',\n",
       "       'card_payment_entry_mode', 'device_type', 'payment_type',\n",
       "       'organization_created'],\n",
       "      dtype='object')"
      ]
     },
     "execution_count": 5,
     "metadata": {},
     "output_type": "execute_result"
    }
   ],
   "source": [
    "master_df.columns"
   ]
  },
  {
   "cell_type": "code",
   "execution_count": 6,
   "metadata": {},
   "outputs": [
    {
     "data": {
      "text/plain": [
       "<matplotlib.axes._subplots.AxesSubplot at 0x20840e13ac8>"
      ]
     },
     "execution_count": 6,
     "metadata": {},
     "output_type": "execute_result"
    },
    {
     "data": {
      "image/png": "[encoded data removed]",
      "text/plain": [
       "<Figure size 432x288 with 1 Axes>"
      ]
     },
     "metadata": {
      "needs_background": "light"
     },
     "output_type": "display_data"
    }
   ],
   "source": [
    "master_df['device_type'].value_counts().plot(kind='barh')"
   ]
  },
  {
   "cell_type": "code",
   "execution_count": 7,
   "metadata": {},
   "outputs": [
    {
     "data": {
      "text/plain": [
       "<matplotlib.axes._subplots.AxesSubplot at 0x20843af6b08>"
      ]
     },
     "execution_count": 7,
     "metadata": {},
     "output_type": "execute_result"
    },
    {
     "data": {
      "image/png": "[encoded data removed]",
      "text/plain": [
       "<Figure size 432x288 with 1 Axes>"
      ]
     },
     "metadata": {
      "needs_background": "light"
     },
     "output_type": "display_data"
    }
   ],
   "source": [
    "master_df['payment_type'].value_counts().plot(kind='barh')"
   ]
  },
  {
   "cell_type": "code",
   "execution_count": 8,
   "metadata": {},
   "outputs": [
    {
     "data": {
      "text/plain": [
       "<matplotlib.axes._subplots.AxesSubplot at 0x20843b7d608>"
      ]
     },
     "execution_count": 8,
     "metadata": {},
     "output_type": "execute_result"
    },
    {
     "data": {
      "image/png": "[encoded data removed]",
      "text/plain": [
       "<Figure size 432x288 with 1 Axes>"
      ]
     },
     "metadata": {
      "needs_background": "light"
     },
     "output_type": "display_data"
    }
   ],
   "source": [
    "master_df['card_payment_entry_mode'].value_counts().plot(kind='barh')"
   ]
  },
  {
   "cell_type": "code",
   "execution_count": 9,
   "metadata": {},
   "outputs": [
    {
     "data": {
      "text/plain": [
       "<matplotlib.axes._subplots.AxesSubplot at 0x20843beddc8>"
      ]
     },
     "execution_count": 9,
     "metadata": {},
     "output_type": "execute_result"
    },
    {
     "data": {
      "image/png": "[encoded data removed]",
      "text/plain": [
       "<Figure size 432x288 with 1 Axes>"
      ]
     },
     "metadata": {
      "needs_background": "light"
     },
     "output_type": "display_data"
    }
   ],
   "source": [
    "master_df['currency_id'].value_counts().plot(kind='barh')"
   ]
  },
  {
   "cell_type": "markdown",
   "metadata": {},
   "source": [
    "<br>\n",
    "<br>\n",
    "Now we need to convert the time columns to timestamps, as they are originally loaded as strings."
   ]
  },
  {
   "cell_type": "code",
   "execution_count": 10,
   "metadata": {},
   "outputs": [],
   "source": [
    "master_df['timestamp'] = pd.to_datetime(master_df['timestamp'], infer_datetime_format=True, errors='coerce')\n",
    "master_df['organization_created'] = pd.to_datetime(master_df['organization_created'], infer_datetime_format=True, errors='coerce')"
   ]
  },
  {
   "cell_type": "markdown",
   "metadata": {},
   "source": [
    "## Feature Engineering ##"
   ]
  },
  {
   "cell_type": "markdown",
   "metadata": {},
   "source": [
    "We're going to need organizational age, so we calculate that in days."
   ]
  },
  {
   "cell_type": "code",
   "execution_count": 11,
   "metadata": {},
   "outputs": [],
   "source": [
    "master_df['organization_age'] = (master_df['timestamp'] - master_df['organization_created']).dt.days"
   ]
  },
  {
   "cell_type": "markdown",
   "metadata": {},
   "source": [
    "<br>\n",
    "<br>\n",
    "The column with the payment amount contains values in multiple currencies. In order to make meaningful predictions, we need to make the amounts uniform. We're going to convert all the amounts to Euros. First, we create variables for the different exchange rates. Then we create a list for EUR amounts which will be used for conversion. Then we convert the currencies, and add the column to the dataframe."
   ]
  },
  {
   "cell_type": "code",
   "execution_count": 12,
   "metadata": {},
   "outputs": [],
   "source": [
    "GBP = 1.14\n",
    "NOK = 0.1\n",
    "SEK = 0.1\n",
    "DKK = 0.13"
   ]
  },
  {
   "cell_type": "code",
   "execution_count": 13,
   "metadata": {},
   "outputs": [],
   "source": [
    "amount_eur = []"
   ]
  },
  {
   "cell_type": "code",
   "execution_count": 14,
   "metadata": {},
   "outputs": [],
   "source": [
    "for index, row in master_df.iterrows():\n",
    "    if master_df['currency_id'][index] == 'GBP':\n",
    "        amount_eur.append(master_df['amount'][index] * GBP)\n",
    "    elif master_df['currency_id'][index] == 'NOK':\n",
    "        amount_eur.append(master_df['amount'][index] * NOK)\n",
    "    elif master_df['currency_id'][index] == 'SEK':\n",
    "        amount_eur.append(master_df['amount'][index] * SEK)\n",
    "    elif master_df['currency_id'][index] == 'DKK':\n",
    "        amount_eur.append(master_df['amount'][index] * DKK)\n",
    "    else:\n",
    "        amount_eur.append(master_df['amount'][index])"
   ]
  },
  {
   "cell_type": "code",
   "execution_count": 15,
   "metadata": {},
   "outputs": [],
   "source": [
    "master_df['amount_eur'] = amount_eur"
   ]
  },
  {
   "cell_type": "markdown",
   "metadata": {},
   "source": [
    "<br>\n",
    "<br>\n",
    "As we're predicting sums, we'll create features based on these sums. We have to be careful here about potential data leakage here. We'll create a feature based on the sum in the first 14 days, a feature for the rest of the first month, a feature for the seond month, and a feature for the third month."
   ]
  },
  {
   "cell_type": "code",
   "execution_count": 25,
   "metadata": {},
   "outputs": [],
   "source": [
    "amt_to_14_days_sum = master_df[master_df['organization_age'] <= 14]['amount_eur'].sum()\n",
    "\n",
    "amt_to_14_days = []\n",
    "\n",
    "for index, row in master_df.iterrows():\n",
    "    if master_df['organization_age'][index] <= 14:\n",
    "        amt_to_14_days.append(amt_to_14_days_sum)\n",
    "    else:\n",
    "        amt_to_14_days.append(0)\n",
    "        \n",
    "master_df['amt_to_14_days_sum'] = amt_to_14_days"
   ]
  },
  {
   "cell_type": "markdown",
   "metadata": {},
   "source": [
    "<br>\n",
    "<br>"
   ]
  },
  {
   "cell_type": "code",
   "execution_count": 28,
   "metadata": {},
   "outputs": [],
   "source": [
    "amt_15_to_30_days_sum = master_df.loc[(master_df['organization_age'] >= 15) & (master_df['organization_age'] <= 30)]['amount_eur'].sum()\n",
    "\n",
    "df_amt_15_to_30_days = ((master_df['organization_age'] >= 15) & (master_df['organization_age'] <= 30))\n",
    "\n",
    "amt_15_to_30_days = []\n",
    "\n",
    "for index, row in master_df.iterrows():\n",
    "    if df_amt_15_to_30_days.iloc[index] :\n",
    "        amt_15_to_30_days.append(amt_15_to_30_days_sum)\n",
    "    else:\n",
    "        amt_15_to_30_days.append(0)\n",
    "        \n",
    "master_df['amt_15_to_30_days_sum'] = amt_15_to_30_days"
   ]
  },
  {
   "cell_type": "markdown",
   "metadata": {},
   "source": [
    "<br>\n",
    "<br>\n"
   ]
  },
  {
   "cell_type": "code",
   "execution_count": null,
   "metadata": {},
   "outputs": [],
   "source": [
    "amt_31_to_60_days_sum = master_df.loc[(master_df['organization_age'] >= 31) & (master_df['organization_age'] <= 60)]['amount_eur'].sum()\n",
    "\n",
    "df_amt_31_to_60_days = ((master_df['organization_age'] >= 31) & (master_df['organization_age'] <= 60))\n",
    "\n",
    "amt_31_to_60_days = []\n",
    "\n",
    "for index, row in master_df.iterrows():\n",
    "    if df_amt_31_to_60_days.iloc[index] :\n",
    "        amt_31_to_60_days.append(amt_31_to_60_days_sum)\n",
    "    else:\n",
    "        amt_31_to_60_days.append(0)\n",
    "        \n",
    "master_df['amt_31_to_60_days_sum'] = amt_31_to_60_days"
   ]
  },
  {
   "cell_type": "markdown",
   "metadata": {},
   "source": [
    "<br>\n",
    "<br>"
   ]
  },
  {
   "cell_type": "code",
   "execution_count": null,
   "metadata": {},
   "outputs": [],
   "source": [
    "amt_61_to_90_days_sum = master_df.loc[(master_df['organization_age'] >= 61) & (master_df['organization_age'] <= 90)]['amount_eur'].sum()\n",
    "\n",
    "df_amt_61_to_90_days = ((master_df['organization_age'] >= 61) & (master_df['organization_age'] <= 90))\n",
    "\n",
    "amt_61_to_90_days = []\n",
    "\n",
    "for index, row in master_df.iterrows():\n",
    "    if df_amt_61_to_90_days.iloc[index] :\n",
    "        amt_61_to_90_days.append(amt_61_to_90_days_sum)\n",
    "    else:\n",
    "        amt_61_to_90_days.append(0)\n",
    "        \n",
    "master_df['amt_61_to_90_days_sum'] = amt_61_to_90_days"
   ]
  }
 ],
 "metadata": {
  "kernelspec": {
   "display_name": "Python 3",
   "language": "python",
   "name": "python3"
  },
  "language_info": {
   "codemirror_mode": {
    "name": "ipython",
    "version": 3
   },
   "file_extension": ".py",
   "mimetype": "text/x-python",
   "name": "python",
   "nbconvert_exporter": "python",
   "pygments_lexer": "ipython3",
   "version": "3.7.7"
  }
 },
 "nbformat": 4,
 "nbformat_minor": 4
}
